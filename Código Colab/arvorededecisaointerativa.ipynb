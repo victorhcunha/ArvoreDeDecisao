{
  "nbformat": 4,
  "nbformat_minor": 0,
  "metadata": {
    "colab": {
      "name": "Cópia de arvorededecisao.ipynb",
      "provenance": [],
      "collapsed_sections": [],
      "include_colab_link": true
    },
    "kernelspec": {
      "name": "python3",
      "display_name": "Python 3"
    },
    "language_info": {
      "name": "python"
    },
    "widgets": {
      "application/vnd.jupyter.widget-state+json": {
        "58fbe5f11d7845779cec6d986f8a7ff5": {
          "model_module": "@jupyter-widgets/controls",
          "model_name": "VBoxModel",
          "state": {
            "_view_name": "VBoxView",
            "_dom_classes": [
              "widget-interact"
            ],
            "_model_name": "VBoxModel",
            "_view_module": "@jupyter-widgets/controls",
            "_model_module_version": "1.5.0",
            "_view_count": null,
            "_view_module_version": "1.5.0",
            "box_style": "",
            "layout": "IPY_MODEL_2c436749c2ae45a89d196ad50de4524a",
            "_model_module": "@jupyter-widgets/controls",
            "children": [
              "IPY_MODEL_c8473ceb20824d08836e3ac9752bf56b",
              "IPY_MODEL_da6190c3d02745a18fafa311637d07ed",
              "IPY_MODEL_f303cfcfbfd6440aa8e73ea0e432d4b7",
              "IPY_MODEL_48e99a5fa0c44ca1af712b1d4276434a",
              "IPY_MODEL_c6ea76893b8244d6bfcf186f19e71fd9",
              "IPY_MODEL_f9ad11feefb14c4eac6b56aed5e0c156"
            ]
          }
        },
        "2c436749c2ae45a89d196ad50de4524a": {
          "model_module": "@jupyter-widgets/base",
          "model_name": "LayoutModel",
          "state": {
            "_view_name": "LayoutView",
            "grid_template_rows": null,
            "right": null,
            "justify_content": null,
            "_view_module": "@jupyter-widgets/base",
            "overflow": null,
            "_model_module_version": "1.2.0",
            "_view_count": null,
            "flex_flow": null,
            "width": null,
            "min_width": null,
            "border": null,
            "align_items": null,
            "bottom": null,
            "_model_module": "@jupyter-widgets/base",
            "top": null,
            "grid_column": null,
            "overflow_y": null,
            "overflow_x": null,
            "grid_auto_flow": null,
            "grid_area": null,
            "grid_template_columns": null,
            "flex": null,
            "_model_name": "LayoutModel",
            "justify_items": null,
            "grid_row": null,
            "max_height": null,
            "align_content": null,
            "visibility": null,
            "align_self": null,
            "height": null,
            "min_height": null,
            "padding": null,
            "grid_auto_rows": null,
            "grid_gap": null,
            "max_width": null,
            "order": null,
            "_view_module_version": "1.2.0",
            "grid_template_areas": null,
            "object_position": null,
            "object_fit": null,
            "grid_auto_columns": null,
            "margin": null,
            "display": null,
            "left": null
          }
        },
        "c8473ceb20824d08836e3ac9752bf56b": {
          "model_module": "@jupyter-widgets/controls",
          "model_name": "DropdownModel",
          "state": {
            "_options_labels": [
              "gini",
              "entropy"
            ],
            "_view_name": "DropdownView",
            "style": "IPY_MODEL_14aff206bb2b4d7d9ba599da936a4d9f",
            "_dom_classes": [],
            "description": "crit",
            "_model_name": "DropdownModel",
            "index": 0,
            "_view_module": "@jupyter-widgets/controls",
            "_model_module_version": "1.5.0",
            "_view_count": null,
            "disabled": false,
            "_view_module_version": "1.5.0",
            "description_tooltip": null,
            "_model_module": "@jupyter-widgets/controls",
            "layout": "IPY_MODEL_a83056baf92e41dd934fea59714f3cb6"
          }
        },
        "da6190c3d02745a18fafa311637d07ed": {
          "model_module": "@jupyter-widgets/controls",
          "model_name": "DropdownModel",
          "state": {
            "_options_labels": [
              "best",
              "random"
            ],
            "_view_name": "DropdownView",
            "style": "IPY_MODEL_a3ad843058794dffadddaf2a152b7670",
            "_dom_classes": [],
            "description": "split",
            "_model_name": "DropdownModel",
            "index": 0,
            "_view_module": "@jupyter-widgets/controls",
            "_model_module_version": "1.5.0",
            "_view_count": null,
            "disabled": false,
            "_view_module_version": "1.5.0",
            "description_tooltip": null,
            "_model_module": "@jupyter-widgets/controls",
            "layout": "IPY_MODEL_06bb7bfa8f3044d6b8d6407a9238490e"
          }
        },
        "f303cfcfbfd6440aa8e73ea0e432d4b7": {
          "model_module": "@jupyter-widgets/controls",
          "model_name": "DropdownModel",
          "state": {
            "_options_labels": [
              "1",
              "2",
              "3",
              "4",
              "5",
              "10",
              "20",
              "30"
            ],
            "_view_name": "DropdownView",
            "style": "IPY_MODEL_9a4b7ce7b8364fd3be2f7941b886d68a",
            "_dom_classes": [],
            "description": "depth",
            "_model_name": "DropdownModel",
            "index": 0,
            "_view_module": "@jupyter-widgets/controls",
            "_model_module_version": "1.5.0",
            "_view_count": null,
            "disabled": false,
            "_view_module_version": "1.5.0",
            "description_tooltip": null,
            "_model_module": "@jupyter-widgets/controls",
            "layout": "IPY_MODEL_09ef81fa78924f3bb86eabe895705a23"
          }
        },
        "48e99a5fa0c44ca1af712b1d4276434a": {
          "model_module": "@jupyter-widgets/controls",
          "model_name": "IntSliderModel",
          "state": {
            "_view_name": "IntSliderView",
            "style": "IPY_MODEL_c753630c2a864e13991ccdab62d0fda2",
            "_dom_classes": [],
            "description": "min_samples_split",
            "step": 1,
            "_model_name": "IntSliderModel",
            "orientation": "horizontal",
            "max": 5,
            "_view_module": "@jupyter-widgets/controls",
            "_model_module_version": "1.5.0",
            "value": 3,
            "_view_count": null,
            "disabled": false,
            "_view_module_version": "1.5.0",
            "min": 1,
            "continuous_update": true,
            "readout_format": "d",
            "description_tooltip": null,
            "readout": true,
            "_model_module": "@jupyter-widgets/controls",
            "layout": "IPY_MODEL_7ee6aec89ffc4d99890efea10b1059ea"
          }
        },
        "c6ea76893b8244d6bfcf186f19e71fd9": {
          "model_module": "@jupyter-widgets/controls",
          "model_name": "IntSliderModel",
          "state": {
            "_view_name": "IntSliderView",
            "style": "IPY_MODEL_e2d4ecfc059c47bdbbb80480be5abeb9",
            "_dom_classes": [],
            "description": "min_samples_leaf",
            "step": 1,
            "_model_name": "IntSliderModel",
            "orientation": "horizontal",
            "max": 5,
            "_view_module": "@jupyter-widgets/controls",
            "_model_module_version": "1.5.0",
            "value": 1,
            "_view_count": null,
            "disabled": false,
            "_view_module_version": "1.5.0",
            "min": 1,
            "continuous_update": true,
            "readout_format": "d",
            "description_tooltip": null,
            "readout": true,
            "_model_module": "@jupyter-widgets/controls",
            "layout": "IPY_MODEL_0d0af9f58c4b454b9f84c123e9a38738"
          }
        },
        "f9ad11feefb14c4eac6b56aed5e0c156": {
          "model_module": "@jupyter-widgets/output",
          "model_name": "OutputModel",
          "state": {
            "_view_name": "OutputView",
            "msg_id": "",
            "_dom_classes": [],
            "_model_name": "OutputModel",
            "outputs": [
              {
                "output_type": "display_data",
                "metadata": {
                  "tags": []
                },
                "text/plain": "<IPython.core.display.SVG object>",
                "image/svg+xml": "<svg height=\"195pt\" viewBox=\"0.00 0.00 282.00 195.00\" width=\"282pt\" xmlns=\"http://www.w3.org/2000/svg\" xmlns:xlink=\"http://www.w3.org/1999/xlink\">\n<g class=\"graph\" id=\"graph0\" transform=\"scale(1 1) rotate(0) translate(4 191)\">\n<title>Tree</title>\n<polygon fill=\"#ffffff\" points=\"-4,4 -4,-191 278,-191 278,4 -4,4\" stroke=\"transparent\"/>\n<!-- 0 -->\n<g class=\"node\" id=\"node1\">\n<title>0</title>\n<polygon fill=\"#ffffff\" points=\"218,-187 59,-187 59,-104 218,-104 218,-187\" stroke=\"#000000\"/>\n<text fill=\"#000000\" font-family=\"Times,serif\" font-size=\"14.00\" text-anchor=\"middle\" x=\"138.5\" y=\"-171.8\">petal width in cm &lt;= 0.8</text>\n<text fill=\"#000000\" font-family=\"Times,serif\" font-size=\"14.00\" text-anchor=\"middle\" x=\"138.5\" y=\"-156.8\">gini = 0.667</text>\n<text fill=\"#000000\" font-family=\"Times,serif\" font-size=\"14.00\" text-anchor=\"middle\" x=\"138.5\" y=\"-141.8\">samples = 150</text>\n<text fill=\"#000000\" font-family=\"Times,serif\" font-size=\"14.00\" text-anchor=\"middle\" x=\"138.5\" y=\"-126.8\">value = [50, 50, 50]</text>\n<text fill=\"#000000\" font-family=\"Times,serif\" font-size=\"14.00\" text-anchor=\"middle\" x=\"138.5\" y=\"-111.8\">class = Iris-virginica</text>\n</g>\n<!-- 1 -->\n<g class=\"node\" id=\"node2\">\n<title>1</title>\n<polygon fill=\"#e58139\" points=\"131,-68 0,-68 0,0 131,0 131,-68\" stroke=\"#000000\"/>\n<text fill=\"#000000\" font-family=\"Times,serif\" font-size=\"14.00\" text-anchor=\"middle\" x=\"65.5\" y=\"-52.8\">gini = 0.0</text>\n<text fill=\"#000000\" font-family=\"Times,serif\" font-size=\"14.00\" text-anchor=\"middle\" x=\"65.5\" y=\"-37.8\">samples = 50</text>\n<text fill=\"#000000\" font-family=\"Times,serif\" font-size=\"14.00\" text-anchor=\"middle\" x=\"65.5\" y=\"-22.8\">value = [50, 0, 0]</text>\n<text fill=\"#000000\" font-family=\"Times,serif\" font-size=\"14.00\" text-anchor=\"middle\" x=\"65.5\" y=\"-7.8\">class = Iris-virginica</text>\n</g>\n<!-- 0&#45;&gt;1 -->\n<g class=\"edge\" id=\"edge1\">\n<title>0-&gt;1</title>\n<path d=\"M111.3175,-103.9815C105.4808,-95.0666 99.3034,-85.6313 93.4386,-76.6734\" fill=\"none\" stroke=\"#000000\"/>\n<polygon fill=\"#000000\" points=\"96.3386,-74.7129 87.9327,-68.2637 90.4821,-78.5472 96.3386,-74.7129\" stroke=\"#000000\"/>\n<text fill=\"#000000\" font-family=\"Times,serif\" font-size=\"14.00\" text-anchor=\"middle\" x=\"82.8259\" y=\"-89.0365\">True</text>\n</g>\n<!-- 2 -->\n<g class=\"node\" id=\"node3\">\n<title>2</title>\n<polygon fill=\"#ffffff\" points=\"274,-68 149,-68 149,0 274,0 274,-68\" stroke=\"#000000\"/>\n<text fill=\"#000000\" font-family=\"Times,serif\" font-size=\"14.00\" text-anchor=\"middle\" x=\"211.5\" y=\"-52.8\">gini = 0.5</text>\n<text fill=\"#000000\" font-family=\"Times,serif\" font-size=\"14.00\" text-anchor=\"middle\" x=\"211.5\" y=\"-37.8\">samples = 100</text>\n<text fill=\"#000000\" font-family=\"Times,serif\" font-size=\"14.00\" text-anchor=\"middle\" x=\"211.5\" y=\"-22.8\">value = [0, 50, 50]</text>\n<text fill=\"#000000\" font-family=\"Times,serif\" font-size=\"14.00\" text-anchor=\"middle\" x=\"211.5\" y=\"-7.8\">class = Iris-setosa</text>\n</g>\n<!-- 0&#45;&gt;2 -->\n<g class=\"edge\" id=\"edge2\">\n<title>0-&gt;2</title>\n<path d=\"M165.6825,-103.9815C171.5192,-95.0666 177.6966,-85.6313 183.5614,-76.6734\" fill=\"none\" stroke=\"#000000\"/>\n<polygon fill=\"#000000\" points=\"186.5179,-78.5472 189.0673,-68.2637 180.6614,-74.7129 186.5179,-78.5472\" stroke=\"#000000\"/>\n<text fill=\"#000000\" font-family=\"Times,serif\" font-size=\"14.00\" text-anchor=\"middle\" x=\"194.1741\" y=\"-89.0365\">False</text>\n</g>\n</g>\n</svg>"
              }
            ],
            "_view_module": "@jupyter-widgets/output",
            "_model_module_version": "1.0.0",
            "_view_count": null,
            "_view_module_version": "1.0.0",
            "layout": "IPY_MODEL_248bfed5725e4cf1b9461481ecdadd8f",
            "_model_module": "@jupyter-widgets/output"
          }
        },
        "14aff206bb2b4d7d9ba599da936a4d9f": {
          "model_module": "@jupyter-widgets/controls",
          "model_name": "DescriptionStyleModel",
          "state": {
            "_view_name": "StyleView",
            "_model_name": "DescriptionStyleModel",
            "description_width": "",
            "_view_module": "@jupyter-widgets/base",
            "_model_module_version": "1.5.0",
            "_view_count": null,
            "_view_module_version": "1.2.0",
            "_model_module": "@jupyter-widgets/controls"
          }
        },
        "a83056baf92e41dd934fea59714f3cb6": {
          "model_module": "@jupyter-widgets/base",
          "model_name": "LayoutModel",
          "state": {
            "_view_name": "LayoutView",
            "grid_template_rows": null,
            "right": null,
            "justify_content": null,
            "_view_module": "@jupyter-widgets/base",
            "overflow": null,
            "_model_module_version": "1.2.0",
            "_view_count": null,
            "flex_flow": null,
            "width": null,
            "min_width": null,
            "border": null,
            "align_items": null,
            "bottom": null,
            "_model_module": "@jupyter-widgets/base",
            "top": null,
            "grid_column": null,
            "overflow_y": null,
            "overflow_x": null,
            "grid_auto_flow": null,
            "grid_area": null,
            "grid_template_columns": null,
            "flex": null,
            "_model_name": "LayoutModel",
            "justify_items": null,
            "grid_row": null,
            "max_height": null,
            "align_content": null,
            "visibility": null,
            "align_self": null,
            "height": null,
            "min_height": null,
            "padding": null,
            "grid_auto_rows": null,
            "grid_gap": null,
            "max_width": null,
            "order": null,
            "_view_module_version": "1.2.0",
            "grid_template_areas": null,
            "object_position": null,
            "object_fit": null,
            "grid_auto_columns": null,
            "margin": null,
            "display": null,
            "left": null
          }
        },
        "a3ad843058794dffadddaf2a152b7670": {
          "model_module": "@jupyter-widgets/controls",
          "model_name": "DescriptionStyleModel",
          "state": {
            "_view_name": "StyleView",
            "_model_name": "DescriptionStyleModel",
            "description_width": "",
            "_view_module": "@jupyter-widgets/base",
            "_model_module_version": "1.5.0",
            "_view_count": null,
            "_view_module_version": "1.2.0",
            "_model_module": "@jupyter-widgets/controls"
          }
        },
        "06bb7bfa8f3044d6b8d6407a9238490e": {
          "model_module": "@jupyter-widgets/base",
          "model_name": "LayoutModel",
          "state": {
            "_view_name": "LayoutView",
            "grid_template_rows": null,
            "right": null,
            "justify_content": null,
            "_view_module": "@jupyter-widgets/base",
            "overflow": null,
            "_model_module_version": "1.2.0",
            "_view_count": null,
            "flex_flow": null,
            "width": null,
            "min_width": null,
            "border": null,
            "align_items": null,
            "bottom": null,
            "_model_module": "@jupyter-widgets/base",
            "top": null,
            "grid_column": null,
            "overflow_y": null,
            "overflow_x": null,
            "grid_auto_flow": null,
            "grid_area": null,
            "grid_template_columns": null,
            "flex": null,
            "_model_name": "LayoutModel",
            "justify_items": null,
            "grid_row": null,
            "max_height": null,
            "align_content": null,
            "visibility": null,
            "align_self": null,
            "height": null,
            "min_height": null,
            "padding": null,
            "grid_auto_rows": null,
            "grid_gap": null,
            "max_width": null,
            "order": null,
            "_view_module_version": "1.2.0",
            "grid_template_areas": null,
            "object_position": null,
            "object_fit": null,
            "grid_auto_columns": null,
            "margin": null,
            "display": null,
            "left": null
          }
        },
        "9a4b7ce7b8364fd3be2f7941b886d68a": {
          "model_module": "@jupyter-widgets/controls",
          "model_name": "DescriptionStyleModel",
          "state": {
            "_view_name": "StyleView",
            "_model_name": "DescriptionStyleModel",
            "description_width": "",
            "_view_module": "@jupyter-widgets/base",
            "_model_module_version": "1.5.0",
            "_view_count": null,
            "_view_module_version": "1.2.0",
            "_model_module": "@jupyter-widgets/controls"
          }
        },
        "09ef81fa78924f3bb86eabe895705a23": {
          "model_module": "@jupyter-widgets/base",
          "model_name": "LayoutModel",
          "state": {
            "_view_name": "LayoutView",
            "grid_template_rows": null,
            "right": null,
            "justify_content": null,
            "_view_module": "@jupyter-widgets/base",
            "overflow": null,
            "_model_module_version": "1.2.0",
            "_view_count": null,
            "flex_flow": null,
            "width": null,
            "min_width": null,
            "border": null,
            "align_items": null,
            "bottom": null,
            "_model_module": "@jupyter-widgets/base",
            "top": null,
            "grid_column": null,
            "overflow_y": null,
            "overflow_x": null,
            "grid_auto_flow": null,
            "grid_area": null,
            "grid_template_columns": null,
            "flex": null,
            "_model_name": "LayoutModel",
            "justify_items": null,
            "grid_row": null,
            "max_height": null,
            "align_content": null,
            "visibility": null,
            "align_self": null,
            "height": null,
            "min_height": null,
            "padding": null,
            "grid_auto_rows": null,
            "grid_gap": null,
            "max_width": null,
            "order": null,
            "_view_module_version": "1.2.0",
            "grid_template_areas": null,
            "object_position": null,
            "object_fit": null,
            "grid_auto_columns": null,
            "margin": null,
            "display": null,
            "left": null
          }
        },
        "c753630c2a864e13991ccdab62d0fda2": {
          "model_module": "@jupyter-widgets/controls",
          "model_name": "SliderStyleModel",
          "state": {
            "_view_name": "StyleView",
            "handle_color": null,
            "_model_name": "SliderStyleModel",
            "description_width": "",
            "_view_module": "@jupyter-widgets/base",
            "_model_module_version": "1.5.0",
            "_view_count": null,
            "_view_module_version": "1.2.0",
            "_model_module": "@jupyter-widgets/controls"
          }
        },
        "7ee6aec89ffc4d99890efea10b1059ea": {
          "model_module": "@jupyter-widgets/base",
          "model_name": "LayoutModel",
          "state": {
            "_view_name": "LayoutView",
            "grid_template_rows": null,
            "right": null,
            "justify_content": null,
            "_view_module": "@jupyter-widgets/base",
            "overflow": null,
            "_model_module_version": "1.2.0",
            "_view_count": null,
            "flex_flow": null,
            "width": null,
            "min_width": null,
            "border": null,
            "align_items": null,
            "bottom": null,
            "_model_module": "@jupyter-widgets/base",
            "top": null,
            "grid_column": null,
            "overflow_y": null,
            "overflow_x": null,
            "grid_auto_flow": null,
            "grid_area": null,
            "grid_template_columns": null,
            "flex": null,
            "_model_name": "LayoutModel",
            "justify_items": null,
            "grid_row": null,
            "max_height": null,
            "align_content": null,
            "visibility": null,
            "align_self": null,
            "height": null,
            "min_height": null,
            "padding": null,
            "grid_auto_rows": null,
            "grid_gap": null,
            "max_width": null,
            "order": null,
            "_view_module_version": "1.2.0",
            "grid_template_areas": null,
            "object_position": null,
            "object_fit": null,
            "grid_auto_columns": null,
            "margin": null,
            "display": null,
            "left": null
          }
        },
        "e2d4ecfc059c47bdbbb80480be5abeb9": {
          "model_module": "@jupyter-widgets/controls",
          "model_name": "SliderStyleModel",
          "state": {
            "_view_name": "StyleView",
            "handle_color": null,
            "_model_name": "SliderStyleModel",
            "description_width": "",
            "_view_module": "@jupyter-widgets/base",
            "_model_module_version": "1.5.0",
            "_view_count": null,
            "_view_module_version": "1.2.0",
            "_model_module": "@jupyter-widgets/controls"
          }
        },
        "0d0af9f58c4b454b9f84c123e9a38738": {
          "model_module": "@jupyter-widgets/base",
          "model_name": "LayoutModel",
          "state": {
            "_view_name": "LayoutView",
            "grid_template_rows": null,
            "right": null,
            "justify_content": null,
            "_view_module": "@jupyter-widgets/base",
            "overflow": null,
            "_model_module_version": "1.2.0",
            "_view_count": null,
            "flex_flow": null,
            "width": null,
            "min_width": null,
            "border": null,
            "align_items": null,
            "bottom": null,
            "_model_module": "@jupyter-widgets/base",
            "top": null,
            "grid_column": null,
            "overflow_y": null,
            "overflow_x": null,
            "grid_auto_flow": null,
            "grid_area": null,
            "grid_template_columns": null,
            "flex": null,
            "_model_name": "LayoutModel",
            "justify_items": null,
            "grid_row": null,
            "max_height": null,
            "align_content": null,
            "visibility": null,
            "align_self": null,
            "height": null,
            "min_height": null,
            "padding": null,
            "grid_auto_rows": null,
            "grid_gap": null,
            "max_width": null,
            "order": null,
            "_view_module_version": "1.2.0",
            "grid_template_areas": null,
            "object_position": null,
            "object_fit": null,
            "grid_auto_columns": null,
            "margin": null,
            "display": null,
            "left": null
          }
        },
        "248bfed5725e4cf1b9461481ecdadd8f": {
          "model_module": "@jupyter-widgets/base",
          "model_name": "LayoutModel",
          "state": {
            "_view_name": "LayoutView",
            "grid_template_rows": null,
            "right": null,
            "justify_content": null,
            "_view_module": "@jupyter-widgets/base",
            "overflow": null,
            "_model_module_version": "1.2.0",
            "_view_count": null,
            "flex_flow": null,
            "width": null,
            "min_width": null,
            "border": null,
            "align_items": null,
            "bottom": null,
            "_model_module": "@jupyter-widgets/base",
            "top": null,
            "grid_column": null,
            "overflow_y": null,
            "overflow_x": null,
            "grid_auto_flow": null,
            "grid_area": null,
            "grid_template_columns": null,
            "flex": null,
            "_model_name": "LayoutModel",
            "justify_items": null,
            "grid_row": null,
            "max_height": null,
            "align_content": null,
            "visibility": null,
            "align_self": null,
            "height": null,
            "min_height": null,
            "padding": null,
            "grid_auto_rows": null,
            "grid_gap": null,
            "max_width": null,
            "order": null,
            "_view_module_version": "1.2.0",
            "grid_template_areas": null,
            "object_position": null,
            "object_fit": null,
            "grid_auto_columns": null,
            "margin": null,
            "display": null,
            "left": null
          }
        }
      }
    }
  },
  "cells": [
    {
      "cell_type": "markdown",
      "metadata": {
        "id": "view-in-github",
        "colab_type": "text"
      },
      "source": [
        "<a href=\"https://colab.research.google.com/github/victorhcunha/ArvoreDeDecisao/blob/main/arvorededecisaointerativa.ipynb\" target=\"_parent\"><img src=\"https://colab.research.google.com/assets/colab-badge.svg\" alt=\"Open In Colab\"/></a>"
      ]
    },
    {
      "cell_type": "code",
      "metadata": {
        "id": "DU2OVHXZ4lG-"
      },
      "source": [
        "# Importando as bibliotecas necessárias:\n",
        "import pandas as pd\n",
        "from sklearn.tree import DecisionTreeClassifier,export_graphviz #arvoredeDecisao e #renderizacao\n",
        "from sklearn.model_selection import train_test_split #divisaoDadosDeTeste\n",
        "from sklearn import metrics\n",
        "import numpy as np\n",
        "# Renderização gráfica\n",
        "import pydot\n",
        "import graphviz\n",
        "# Renderização interativa\n",
        "from ipywidgets import interactive\n",
        "from IPython.display import SVG,display\n",
        "from graphviz import Source"
      ],
      "execution_count": 3,
      "outputs": []
    },
    {
      "cell_type": "code",
      "metadata": {
        "colab": {
          "base_uri": "https://localhost:8080/"
        },
        "id": "n7kBWJd18A7Y",
        "outputId": "3fe9a7d9-667b-47a1-b960-27d6715f0b6a"
      },
      "source": [
        "# Carregando a base de dados:\n",
        "data = pd.read_csv('iris.data')\n",
        "data.head()\n",
        "\n",
        "# Mostrando informações da base de dados:\n",
        "data.info()\n"
      ],
      "execution_count": 4,
      "outputs": [
        {
          "output_type": "stream",
          "text": [
            "<class 'pandas.core.frame.DataFrame'>\n",
            "RangeIndex: 150 entries, 0 to 149\n",
            "Data columns (total 5 columns):\n",
            " #   Column              Non-Null Count  Dtype  \n",
            "---  ------              --------------  -----  \n",
            " 0   sepal length in cm  150 non-null    float64\n",
            " 1   sepal width in cm   150 non-null    float64\n",
            " 2   petal length in cm  150 non-null    float64\n",
            " 3   petal width in cm   150 non-null    float64\n",
            " 4   class               150 non-null    object \n",
            "dtypes: float64(4), object(1)\n",
            "memory usage: 6.0+ KB\n"
          ],
          "name": "stdout"
        }
      ]
    },
    {
      "cell_type": "code",
      "metadata": {
        "colab": {
          "base_uri": "https://localhost:8080/"
        },
        "id": "G-2J4JqS8Opz",
        "outputId": "55277b62-e475-4858-d788-7c545f4db40c"
      },
      "source": [
        "\n",
        "# Dividindo os dados em treino e teste:\n",
        "X_train, X_test, y_train, y_test = train_test_split(data.drop(\"class\",axis=1),data[\"class\"],test_size=0.3)\n",
        "\n",
        "# Mostrando a forma dos dados:\n",
        "print(X_train.shape,X_test.shape)\n",
        "print(y_train.shape,y_test.shape)"
      ],
      "execution_count": 5,
      "outputs": [
        {
          "output_type": "stream",
          "text": [
            "(105, 4) (45, 4)\n",
            "(105,) (45,)\n"
          ],
          "name": "stdout"
        }
      ]
    },
    {
      "cell_type": "code",
      "metadata": {
        "colab": {
          "base_uri": "https://localhost:8080/"
        },
        "id": "O62ulotD8Roc",
        "outputId": "41eea4a4-8691-4150-dd61-1eff18a77d1b"
      },
      "source": [
        "\n",
        "\n",
        "# Instânciando o objeto classificador:\n",
        "classifier = DecisionTreeClassifier()\n",
        "\n",
        "# Treinando o modelo de arvore de decisão:\n",
        "classifier = classifier.fit(X_train,y_train)\n",
        "\n",
        "# Verificando os atributos mais importantes/relevantes para o modelo treinado:\n",
        "print(classifier.feature_importances_)\n",
        "\n",
        "for feature,importancia in zip(data.columns,classifier.feature_importances_):\n",
        "    print(\"{}:{}\".format(feature, importancia))\n"
      ],
      "execution_count": 6,
      "outputs": [
        {
          "output_type": "stream",
          "text": [
            "[0.02158717 0.         0.0573602  0.92105263]\n",
            "sepal length in cm:0.021587171052631582\n",
            "sepal width in cm:0.0\n",
            "petal length in cm:0.05736019736842106\n",
            "petal width in cm:0.9210526315789475\n"
          ],
          "name": "stdout"
        }
      ]
    },
    {
      "cell_type": "code",
      "metadata": {
        "id": "WBnZfNqiixx_",
        "colab": {
          "base_uri": "https://localhost:8080/"
        },
        "outputId": "7564f9f7-e8d9-4b49-b8af-f163f681aa5d"
      },
      "source": [
        "# Executando o método predict:\n",
        "resultado = classifier.predict(X_test)\n",
        "print(resultado)\n",
        "\n",
        "# Relatório de métricas:\n",
        "print(metrics.classification_report(y_test,resultado))"
      ],
      "execution_count": 7,
      "outputs": [
        {
          "output_type": "stream",
          "text": [
            "['Iris-virginica' 'Iris-virginica' 'Iris-versicolor' 'Iris-versicolor'\n",
            " 'Iris-virginica' 'Iris-setosa' 'Iris-virginica' 'Iris-virginica'\n",
            " 'Iris-versicolor' 'Iris-versicolor' 'Iris-virginica' 'Iris-versicolor'\n",
            " 'Iris-virginica' 'Iris-setosa' 'Iris-setosa' 'Iris-versicolor'\n",
            " 'Iris-virginica' 'Iris-virginica' 'Iris-versicolor' 'Iris-virginica'\n",
            " 'Iris-setosa' 'Iris-versicolor' 'Iris-virginica' 'Iris-setosa'\n",
            " 'Iris-versicolor' 'Iris-virginica' 'Iris-setosa' 'Iris-virginica'\n",
            " 'Iris-virginica' 'Iris-virginica' 'Iris-virginica' 'Iris-virginica'\n",
            " 'Iris-versicolor' 'Iris-versicolor' 'Iris-versicolor' 'Iris-versicolor'\n",
            " 'Iris-setosa' 'Iris-setosa' 'Iris-virginica' 'Iris-versicolor'\n",
            " 'Iris-virginica' 'Iris-setosa' 'Iris-versicolor' 'Iris-versicolor'\n",
            " 'Iris-versicolor']\n",
            "                 precision    recall  f1-score   support\n",
            "\n",
            "    Iris-setosa       1.00      1.00      1.00         9\n",
            "Iris-versicolor       0.94      0.89      0.91        18\n",
            " Iris-virginica       0.89      0.94      0.92        18\n",
            "\n",
            "       accuracy                           0.93        45\n",
            "      macro avg       0.95      0.94      0.94        45\n",
            "   weighted avg       0.93      0.93      0.93        45\n",
            "\n"
          ],
          "name": "stdout"
        }
      ]
    },
    {
      "cell_type": "code",
      "metadata": {
        "id": "3Y6jUNgXjGel",
        "colab": {
          "base_uri": "https://localhost:8080/",
          "height": 857
        },
        "outputId": "c8685cc7-d078-4cdd-84be-a7d7bd103582"
      },
      "source": [
        "# Renderização de Árvore:\n",
        "dot_data = export_graphviz( \n",
        "         classifier, \n",
        "         out_file=None,\n",
        "         feature_names=data.drop('class',axis=1).columns,\n",
        "         class_names=['Iris-virginica','Iris-setosa', 'Iris-versicolor'],  \n",
        "         filled=True, rounded=True,\n",
        "         proportion=True,\n",
        "         node_ids=True,\n",
        "         rotate=False,\n",
        "         label='all',\n",
        "         special_characters=True\n",
        "        )\n",
        "\n",
        "graph = graphviz.Source(dot_data)  \n",
        "graph"
      ],
      "execution_count": 8,
      "outputs": [
        {
          "output_type": "execute_result",
          "data": {
            "text/plain": [
              "<graphviz.files.Source at 0x7f6500d0b290>"
            ],
            "image/svg+xml": "<?xml version=\"1.0\" encoding=\"UTF-8\" standalone=\"no\"?>\n<!DOCTYPE svg PUBLIC \"-//W3C//DTD SVG 1.1//EN\"\n \"http://www.w3.org/Graphics/SVG/1.1/DTD/svg11.dtd\">\n<!-- Generated by graphviz version 2.40.1 (20161225.0304)\n -->\n<!-- Title: Tree Pages: 1 -->\n<svg width=\"437pt\" height=\"627pt\"\n viewBox=\"0.00 0.00 436.50 627.00\" xmlns=\"http://www.w3.org/2000/svg\" xmlns:xlink=\"http://www.w3.org/1999/xlink\">\n<g id=\"graph0\" class=\"graph\" transform=\"scale(1 1) rotate(0) translate(4 623)\">\n<title>Tree</title>\n<polygon fill=\"#ffffff\" stroke=\"transparent\" points=\"-4,4 -4,-623 432.5,-623 432.5,4 -4,4\"/>\n<!-- 0 -->\n<g id=\"node1\" class=\"node\">\n<title>0</title>\n<path fill=\"#fcefe7\" stroke=\"#000000\" d=\"M254.5,-619C254.5,-619 86.5,-619 86.5,-619 80.5,-619 74.5,-613 74.5,-607 74.5,-607 74.5,-533 74.5,-533 74.5,-527 80.5,-521 86.5,-521 86.5,-521 254.5,-521 254.5,-521 260.5,-521 266.5,-527 266.5,-533 266.5,-533 266.5,-607 266.5,-607 266.5,-613 260.5,-619 254.5,-619\"/>\n<text text-anchor=\"start\" x=\"143.5\" y=\"-603.8\" font-family=\"Helvetica,sans-Serif\" font-size=\"14.00\" fill=\"#000000\">node #0</text>\n<text text-anchor=\"start\" x=\"99\" y=\"-588.8\" font-family=\"Helvetica,sans-Serif\" font-size=\"14.00\" fill=\"#000000\">petal width in cm ≤ 0.8</text>\n<text text-anchor=\"start\" x=\"132.5\" y=\"-573.8\" font-family=\"Helvetica,sans-Serif\" font-size=\"14.00\" fill=\"#000000\">gini = 0.662</text>\n<text text-anchor=\"start\" x=\"110\" y=\"-558.8\" font-family=\"Helvetica,sans-Serif\" font-size=\"14.00\" fill=\"#000000\">samples = 100.0%</text>\n<text text-anchor=\"start\" x=\"82.5\" y=\"-543.8\" font-family=\"Helvetica,sans-Serif\" font-size=\"14.00\" fill=\"#000000\">value = [0.39, 0.305, 0.305]</text>\n<text text-anchor=\"start\" x=\"107\" y=\"-528.8\" font-family=\"Helvetica,sans-Serif\" font-size=\"14.00\" fill=\"#000000\">class = Iris&#45;virginica</text>\n</g>\n<!-- 1 -->\n<g id=\"node2\" class=\"node\">\n<title>1</title>\n<path fill=\"#e58139\" stroke=\"#000000\" d=\"M146,-477.5C146,-477.5 19,-477.5 19,-477.5 13,-477.5 7,-471.5 7,-465.5 7,-465.5 7,-406.5 7,-406.5 7,-400.5 13,-394.5 19,-394.5 19,-394.5 146,-394.5 146,-394.5 152,-394.5 158,-400.5 158,-406.5 158,-406.5 158,-465.5 158,-465.5 158,-471.5 152,-477.5 146,-477.5\"/>\n<text text-anchor=\"start\" x=\"55.5\" y=\"-462.3\" font-family=\"Helvetica,sans-Serif\" font-size=\"14.00\" fill=\"#000000\">node #1</text>\n<text text-anchor=\"start\" x=\"53\" y=\"-447.3\" font-family=\"Helvetica,sans-Serif\" font-size=\"14.00\" fill=\"#000000\">gini = 0.0</text>\n<text text-anchor=\"start\" x=\"26.5\" y=\"-432.3\" font-family=\"Helvetica,sans-Serif\" font-size=\"14.00\" fill=\"#000000\">samples = 39.0%</text>\n<text text-anchor=\"start\" x=\"15\" y=\"-417.3\" font-family=\"Helvetica,sans-Serif\" font-size=\"14.00\" fill=\"#000000\">value = [1.0, 0.0, 0.0]</text>\n<text text-anchor=\"start\" x=\"19\" y=\"-402.3\" font-family=\"Helvetica,sans-Serif\" font-size=\"14.00\" fill=\"#000000\">class = Iris&#45;virginica</text>\n</g>\n<!-- 0&#45;&gt;1 -->\n<g id=\"edge1\" class=\"edge\">\n<title>0&#45;&gt;1</title>\n<path fill=\"none\" stroke=\"#000000\" d=\"M138.2317,-520.8642C130.8048,-509.555 122.8968,-497.5133 115.4417,-486.1612\"/>\n<polygon fill=\"#000000\" stroke=\"#000000\" points=\"118.2593,-484.0756 109.8444,-477.6381 112.4082,-487.9181 118.2593,-484.0756\"/>\n<text text-anchor=\"middle\" x=\"104.772\" y=\"-498.4181\" font-family=\"Helvetica,sans-Serif\" font-size=\"14.00\" fill=\"#000000\">True</text>\n</g>\n<!-- 2 -->\n<g id=\"node3\" class=\"node\">\n<title>2</title>\n<path fill=\"#ffffff\" stroke=\"#000000\" d=\"M331,-485C331,-485 188,-485 188,-485 182,-485 176,-479 176,-473 176,-473 176,-399 176,-399 176,-393 182,-387 188,-387 188,-387 331,-387 331,-387 337,-387 343,-393 343,-399 343,-399 343,-473 343,-473 343,-479 337,-485 331,-485\"/>\n<text text-anchor=\"start\" x=\"232.5\" y=\"-469.8\" font-family=\"Helvetica,sans-Serif\" font-size=\"14.00\" fill=\"#000000\">node #2</text>\n<text text-anchor=\"start\" x=\"184\" y=\"-454.8\" font-family=\"Helvetica,sans-Serif\" font-size=\"14.00\" fill=\"#000000\">petal width in cm ≤ 1.65</text>\n<text text-anchor=\"start\" x=\"230\" y=\"-439.8\" font-family=\"Helvetica,sans-Serif\" font-size=\"14.00\" fill=\"#000000\">gini = 0.5</text>\n<text text-anchor=\"start\" x=\"203.5\" y=\"-424.8\" font-family=\"Helvetica,sans-Serif\" font-size=\"14.00\" fill=\"#000000\">samples = 61.0%</text>\n<text text-anchor=\"start\" x=\"192\" y=\"-409.8\" font-family=\"Helvetica,sans-Serif\" font-size=\"14.00\" fill=\"#000000\">value = [0.0, 0.5, 0.5]</text>\n<text text-anchor=\"start\" x=\"201\" y=\"-394.8\" font-family=\"Helvetica,sans-Serif\" font-size=\"14.00\" fill=\"#000000\">class = Iris&#45;setosa</text>\n</g>\n<!-- 0&#45;&gt;2 -->\n<g id=\"edge2\" class=\"edge\">\n<title>0&#45;&gt;2</title>\n<path fill=\"none\" stroke=\"#000000\" d=\"M203.1349,-520.8642C208.9998,-512.034 215.1614,-502.7571 221.1698,-493.7106\"/>\n<polygon fill=\"#000000\" stroke=\"#000000\" points=\"224.2518,-495.3963 226.869,-485.1298 218.4208,-491.5235 224.2518,-495.3963\"/>\n<text text-anchor=\"middle\" x=\"231.8142\" y=\"-505.9359\" font-family=\"Helvetica,sans-Serif\" font-size=\"14.00\" fill=\"#000000\">False</text>\n</g>\n<!-- 3 -->\n<g id=\"node4\" class=\"node\">\n<title>3</title>\n<path fill=\"#4ce78d\" stroke=\"#000000\" d=\"M246.5,-351C246.5,-351 86.5,-351 86.5,-351 80.5,-351 74.5,-345 74.5,-339 74.5,-339 74.5,-265 74.5,-265 74.5,-259 80.5,-253 86.5,-253 86.5,-253 246.5,-253 246.5,-253 252.5,-253 258.5,-259 258.5,-265 258.5,-265 258.5,-339 258.5,-339 258.5,-345 252.5,-351 246.5,-351\"/>\n<text text-anchor=\"start\" x=\"139.5\" y=\"-335.8\" font-family=\"Helvetica,sans-Serif\" font-size=\"14.00\" fill=\"#000000\">node #3</text>\n<text text-anchor=\"start\" x=\"92\" y=\"-320.8\" font-family=\"Helvetica,sans-Serif\" font-size=\"14.00\" fill=\"#000000\">petal length in cm ≤ 5.0</text>\n<text text-anchor=\"start\" x=\"128.5\" y=\"-305.8\" font-family=\"Helvetica,sans-Serif\" font-size=\"14.00\" fill=\"#000000\">gini = 0.157</text>\n<text text-anchor=\"start\" x=\"110.5\" y=\"-290.8\" font-family=\"Helvetica,sans-Serif\" font-size=\"14.00\" fill=\"#000000\">samples = 33.3%</text>\n<text text-anchor=\"start\" x=\"82.5\" y=\"-275.8\" font-family=\"Helvetica,sans-Serif\" font-size=\"14.00\" fill=\"#000000\">value = [0.0, 0.914, 0.086]</text>\n<text text-anchor=\"start\" x=\"108\" y=\"-260.8\" font-family=\"Helvetica,sans-Serif\" font-size=\"14.00\" fill=\"#000000\">class = Iris&#45;setosa</text>\n</g>\n<!-- 2&#45;&gt;3 -->\n<g id=\"edge3\" class=\"edge\">\n<title>2&#45;&gt;3</title>\n<path fill=\"none\" stroke=\"#000000\" d=\"M225.3983,-386.8642C219.2067,-377.9429 212.6986,-368.5657 206.3587,-359.4309\"/>\n<polygon fill=\"#000000\" stroke=\"#000000\" points=\"209.1746,-357.3495 200.5976,-351.1298 203.4239,-361.3407 209.1746,-357.3495\"/>\n</g>\n<!-- 8 -->\n<g id=\"node9\" class=\"node\">\n<title>8</title>\n<path fill=\"#8139e5\" stroke=\"#000000\" d=\"M416.5,-343.5C416.5,-343.5 288.5,-343.5 288.5,-343.5 282.5,-343.5 276.5,-337.5 276.5,-331.5 276.5,-331.5 276.5,-272.5 276.5,-272.5 276.5,-266.5 282.5,-260.5 288.5,-260.5 288.5,-260.5 416.5,-260.5 416.5,-260.5 422.5,-260.5 428.5,-266.5 428.5,-272.5 428.5,-272.5 428.5,-331.5 428.5,-331.5 428.5,-337.5 422.5,-343.5 416.5,-343.5\"/>\n<text text-anchor=\"start\" x=\"325.5\" y=\"-328.3\" font-family=\"Helvetica,sans-Serif\" font-size=\"14.00\" fill=\"#000000\">node #8</text>\n<text text-anchor=\"start\" x=\"323\" y=\"-313.3\" font-family=\"Helvetica,sans-Serif\" font-size=\"14.00\" fill=\"#000000\">gini = 0.0</text>\n<text text-anchor=\"start\" x=\"296.5\" y=\"-298.3\" font-family=\"Helvetica,sans-Serif\" font-size=\"14.00\" fill=\"#000000\">samples = 27.6%</text>\n<text text-anchor=\"start\" x=\"285\" y=\"-283.3\" font-family=\"Helvetica,sans-Serif\" font-size=\"14.00\" fill=\"#000000\">value = [0.0, 0.0, 1.0]</text>\n<text text-anchor=\"start\" x=\"284.5\" y=\"-268.3\" font-family=\"Helvetica,sans-Serif\" font-size=\"14.00\" fill=\"#000000\">class = Iris&#45;versicolor</text>\n</g>\n<!-- 2&#45;&gt;8 -->\n<g id=\"edge8\" class=\"edge\">\n<title>2&#45;&gt;8</title>\n<path fill=\"none\" stroke=\"#000000\" d=\"M293.6017,-386.8642C301.4506,-375.555 309.808,-363.5133 317.6867,-352.1612\"/>\n<polygon fill=\"#000000\" stroke=\"#000000\" points=\"320.7755,-353.849 323.6019,-343.6381 315.0248,-349.8579 320.7755,-353.849\"/>\n</g>\n<!-- 4 -->\n<g id=\"node5\" class=\"node\">\n<title>4</title>\n<path fill=\"#39e581\" stroke=\"#000000\" d=\"M139,-209.5C139,-209.5 12,-209.5 12,-209.5 6,-209.5 0,-203.5 0,-197.5 0,-197.5 0,-138.5 0,-138.5 0,-132.5 6,-126.5 12,-126.5 12,-126.5 139,-126.5 139,-126.5 145,-126.5 151,-132.5 151,-138.5 151,-138.5 151,-197.5 151,-197.5 151,-203.5 145,-209.5 139,-209.5\"/>\n<text text-anchor=\"start\" x=\"48.5\" y=\"-194.3\" font-family=\"Helvetica,sans-Serif\" font-size=\"14.00\" fill=\"#000000\">node #4</text>\n<text text-anchor=\"start\" x=\"46\" y=\"-179.3\" font-family=\"Helvetica,sans-Serif\" font-size=\"14.00\" fill=\"#000000\">gini = 0.0</text>\n<text text-anchor=\"start\" x=\"19.5\" y=\"-164.3\" font-family=\"Helvetica,sans-Serif\" font-size=\"14.00\" fill=\"#000000\">samples = 29.5%</text>\n<text text-anchor=\"start\" x=\"8\" y=\"-149.3\" font-family=\"Helvetica,sans-Serif\" font-size=\"14.00\" fill=\"#000000\">value = [0.0, 1.0, 0.0]</text>\n<text text-anchor=\"start\" x=\"17\" y=\"-134.3\" font-family=\"Helvetica,sans-Serif\" font-size=\"14.00\" fill=\"#000000\">class = Iris&#45;setosa</text>\n</g>\n<!-- 3&#45;&gt;4 -->\n<g id=\"edge4\" class=\"edge\">\n<title>3&#45;&gt;4</title>\n<path fill=\"none\" stroke=\"#000000\" d=\"M133.1317,-252.8642C125.4516,-241.555 117.2739,-229.5133 109.5647,-218.1612\"/>\n<polygon fill=\"#000000\" stroke=\"#000000\" points=\"112.2902,-215.9445 103.7766,-209.6381 106.4993,-219.8772 112.2902,-215.9445\"/>\n</g>\n<!-- 5 -->\n<g id=\"node6\" class=\"node\">\n<title>5</title>\n<path fill=\"#ab7bee\" stroke=\"#000000\" d=\"M334,-217C334,-217 181,-217 181,-217 175,-217 169,-211 169,-205 169,-205 169,-131 169,-131 169,-125 175,-119 181,-119 181,-119 334,-119 334,-119 340,-119 346,-125 346,-131 346,-131 346,-205 346,-205 346,-211 340,-217 334,-217\"/>\n<text text-anchor=\"start\" x=\"230.5\" y=\"-201.8\" font-family=\"Helvetica,sans-Serif\" font-size=\"14.00\" fill=\"#000000\">node #5</text>\n<text text-anchor=\"start\" x=\"177\" y=\"-186.8\" font-family=\"Helvetica,sans-Serif\" font-size=\"14.00\" fill=\"#000000\">sepal length in cm ≤ 6.05</text>\n<text text-anchor=\"start\" x=\"219.5\" y=\"-171.8\" font-family=\"Helvetica,sans-Serif\" font-size=\"14.00\" fill=\"#000000\">gini = 0.375</text>\n<text text-anchor=\"start\" x=\"205.5\" y=\"-156.8\" font-family=\"Helvetica,sans-Serif\" font-size=\"14.00\" fill=\"#000000\">samples = 3.8%</text>\n<text text-anchor=\"start\" x=\"182\" y=\"-141.8\" font-family=\"Helvetica,sans-Serif\" font-size=\"14.00\" fill=\"#000000\">value = [0.0, 0.25, 0.75]</text>\n<text text-anchor=\"start\" x=\"189.5\" y=\"-126.8\" font-family=\"Helvetica,sans-Serif\" font-size=\"14.00\" fill=\"#000000\">class = Iris&#45;versicolor</text>\n</g>\n<!-- 3&#45;&gt;5 -->\n<g id=\"edge5\" class=\"edge\">\n<title>3&#45;&gt;5</title>\n<path fill=\"none\" stroke=\"#000000\" d=\"M199.8683,-252.8642C205.9268,-243.9429 212.2949,-234.5657 218.4984,-225.4309\"/>\n<polygon fill=\"#000000\" stroke=\"#000000\" points=\"221.4131,-227.3689 224.1357,-217.1298 215.6222,-223.4362 221.4131,-227.3689\"/>\n</g>\n<!-- 6 -->\n<g id=\"node7\" class=\"node\">\n<title>6</title>\n<path fill=\"#39e581\" stroke=\"#000000\" d=\"M236,-83C236,-83 109,-83 109,-83 103,-83 97,-77 97,-71 97,-71 97,-12 97,-12 97,-6 103,0 109,0 109,0 236,0 236,0 242,0 248,-6 248,-12 248,-12 248,-71 248,-71 248,-77 242,-83 236,-83\"/>\n<text text-anchor=\"start\" x=\"145.5\" y=\"-67.8\" font-family=\"Helvetica,sans-Serif\" font-size=\"14.00\" fill=\"#000000\">node #6</text>\n<text text-anchor=\"start\" x=\"143\" y=\"-52.8\" font-family=\"Helvetica,sans-Serif\" font-size=\"14.00\" fill=\"#000000\">gini = 0.0</text>\n<text text-anchor=\"start\" x=\"120.5\" y=\"-37.8\" font-family=\"Helvetica,sans-Serif\" font-size=\"14.00\" fill=\"#000000\">samples = 1.0%</text>\n<text text-anchor=\"start\" x=\"105\" y=\"-22.8\" font-family=\"Helvetica,sans-Serif\" font-size=\"14.00\" fill=\"#000000\">value = [0.0, 1.0, 0.0]</text>\n<text text-anchor=\"start\" x=\"114\" y=\"-7.8\" font-family=\"Helvetica,sans-Serif\" font-size=\"14.00\" fill=\"#000000\">class = Iris&#45;setosa</text>\n</g>\n<!-- 5&#45;&gt;6 -->\n<g id=\"edge6\" class=\"edge\">\n<title>5&#45;&gt;6</title>\n<path fill=\"none\" stroke=\"#000000\" d=\"M224.3934,-118.7296C218.3881,-109.7924 212.1195,-100.4631 206.1002,-91.505\"/>\n<polygon fill=\"#000000\" stroke=\"#000000\" points=\"208.9047,-89.4032 200.4223,-83.055 203.0945,-93.3073 208.9047,-89.4032\"/>\n</g>\n<!-- 7 -->\n<g id=\"node8\" class=\"node\">\n<title>7</title>\n<path fill=\"#8139e5\" stroke=\"#000000\" d=\"M406.5,-83C406.5,-83 278.5,-83 278.5,-83 272.5,-83 266.5,-77 266.5,-71 266.5,-71 266.5,-12 266.5,-12 266.5,-6 272.5,0 278.5,0 278.5,0 406.5,0 406.5,0 412.5,0 418.5,-6 418.5,-12 418.5,-12 418.5,-71 418.5,-71 418.5,-77 412.5,-83 406.5,-83\"/>\n<text text-anchor=\"start\" x=\"315.5\" y=\"-67.8\" font-family=\"Helvetica,sans-Serif\" font-size=\"14.00\" fill=\"#000000\">node #7</text>\n<text text-anchor=\"start\" x=\"313\" y=\"-52.8\" font-family=\"Helvetica,sans-Serif\" font-size=\"14.00\" fill=\"#000000\">gini = 0.0</text>\n<text text-anchor=\"start\" x=\"290.5\" y=\"-37.8\" font-family=\"Helvetica,sans-Serif\" font-size=\"14.00\" fill=\"#000000\">samples = 2.9%</text>\n<text text-anchor=\"start\" x=\"275\" y=\"-22.8\" font-family=\"Helvetica,sans-Serif\" font-size=\"14.00\" fill=\"#000000\">value = [0.0, 0.0, 1.0]</text>\n<text text-anchor=\"start\" x=\"274.5\" y=\"-7.8\" font-family=\"Helvetica,sans-Serif\" font-size=\"14.00\" fill=\"#000000\">class = Iris&#45;versicolor</text>\n</g>\n<!-- 5&#45;&gt;7 -->\n<g id=\"edge7\" class=\"edge\">\n<title>5&#45;&gt;7</title>\n<path fill=\"none\" stroke=\"#000000\" d=\"M290.6066,-118.7296C296.6119,-109.7924 302.8805,-100.4631 308.8998,-91.505\"/>\n<polygon fill=\"#000000\" stroke=\"#000000\" points=\"311.9055,-93.3073 314.5777,-83.055 306.0953,-89.4032 311.9055,-93.3073\"/>\n</g>\n</g>\n</svg>\n"
          },
          "metadata": {
            "tags": []
          },
          "execution_count": 8
        }
      ]
    },
    {
      "cell_type": "code",
      "metadata": {
        "id": "QUv-LZDtgnN3",
        "colab": {
          "base_uri": "https://localhost:8080/",
          "height": 441,
          "referenced_widgets": [
            "58fbe5f11d7845779cec6d986f8a7ff5",
            "2c436749c2ae45a89d196ad50de4524a",
            "c8473ceb20824d08836e3ac9752bf56b",
            "da6190c3d02745a18fafa311637d07ed",
            "f303cfcfbfd6440aa8e73ea0e432d4b7",
            "48e99a5fa0c44ca1af712b1d4276434a",
            "c6ea76893b8244d6bfcf186f19e71fd9",
            "f9ad11feefb14c4eac6b56aed5e0c156",
            "14aff206bb2b4d7d9ba599da936a4d9f",
            "a83056baf92e41dd934fea59714f3cb6",
            "a3ad843058794dffadddaf2a152b7670",
            "06bb7bfa8f3044d6b8d6407a9238490e",
            "9a4b7ce7b8364fd3be2f7941b886d68a",
            "09ef81fa78924f3bb86eabe895705a23",
            "c753630c2a864e13991ccdab62d0fda2",
            "7ee6aec89ffc4d99890efea10b1059ea",
            "e2d4ecfc059c47bdbbb80480be5abeb9",
            "0d0af9f58c4b454b9f84c123e9a38738",
            "248bfed5725e4cf1b9461481ecdadd8f"
          ]
        },
        "outputId": "ab197c92-6276-469e-df10-002e2a5cd531"
      },
      "source": [
        "# Renderizando árvore interativa\n",
        "\n",
        "\n",
        "# feature matrix\n",
        "X,y = data.drop('class',axis=1),data['class']\n",
        "\n",
        "# features\n",
        "features_label = data.drop('class',axis=1).columns\n",
        "\n",
        "# clases\n",
        "class_label = ['Iris-virginica','Iris-setosa', 'Iris-versicolor']\n",
        "\n",
        "\n",
        "def arvoreinterativa(crit, split, depth, min_samples_split, min_samples_leaf=0.2):\n",
        "    estimator = DecisionTreeClassifier(\n",
        "           random_state = 0 \n",
        "          ,criterion = crit\n",
        "          ,splitter = split\n",
        "          ,max_depth = depth\n",
        "          ,min_samples_split=min_samples_split\n",
        "          ,min_samples_leaf=min_samples_leaf\n",
        "    )\n",
        "    estimator.fit(X, y)\n",
        "    graph = Source(export_graphviz(estimator\n",
        "      , out_file=None\n",
        "      , feature_names=features_label\n",
        "      , class_names=class_label\n",
        "      , impurity=True\n",
        "      , filled = True))\n",
        "    display(SVG(graph.pipe(format='svg')))\n",
        "    return estimator\n",
        "\n",
        "inter=interactive(arvoreinterativa \n",
        "   , crit = [\"gini\", \"entropy\"]\n",
        "   , split = [\"best\", \"random\"]\n",
        "   , depth=[1,2,3,4,5,10,20,30]\n",
        "   , min_samples_split=(1,5)\n",
        "   , min_samples_leaf=(1,5))\n",
        "\n",
        "display(inter)"
      ],
      "execution_count": 9,
      "outputs": [
        {
          "output_type": "display_data",
          "data": {
            "application/vnd.jupyter.widget-view+json": {
              "model_id": "58fbe5f11d7845779cec6d986f8a7ff5",
              "version_minor": 0,
              "version_major": 2
            },
            "text/plain": [
              "interactive(children=(Dropdown(description='crit', options=('gini', 'entropy'), value='gini'), Dropdown(descri…"
            ]
          },
          "metadata": {
            "tags": []
          }
        }
      ]
    }
  ]
}