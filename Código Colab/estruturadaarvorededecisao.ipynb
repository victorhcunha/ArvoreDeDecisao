{
  "nbformat": 4,
  "nbformat_minor": 0,
  "metadata": {
    "colab": {
      "name": "estruturadaarvorededecisao.ipynb",
      "provenance": [],
      "collapsed_sections": [],
      "include_colab_link": true
    },
    "kernelspec": {
      "name": "python3",
      "display_name": "Python 3"
    },
    "language_info": {
      "name": "python"
    }
  },
  "cells": [
    {
      "cell_type": "markdown",
      "metadata": {
        "id": "view-in-github",
        "colab_type": "text"
      },
      "source": [
        "<a href=\"https://colab.research.google.com/github/victorhcunha/ArvoreDeDecisao/blob/main/estruturadaarvorededecisao.ipynb\" target=\"_parent\"><img src=\"https://colab.research.google.com/assets/colab-badge.svg\" alt=\"Open In Colab\"/></a>"
      ]
    },
    {
      "cell_type": "code",
      "metadata": {
        "id": "DU2OVHXZ4lG-"
      },
      "source": [
        "# Importando as bibliotecas necessárias:\n",
        "import pandas as pd\n",
        "from sklearn.tree import DecisionTreeClassifier,export_graphviz #arvoredeDecisao e #renderizacao\n",
        "from sklearn.model_selection import train_test_split #divisaoDadosDeTeste\n",
        "from sklearn import metrics\n",
        "import numpy as np\n",
        "# Renderização gráfica\n",
        "import pydot\n",
        "import graphviz"
      ],
      "execution_count": 333,
      "outputs": []
    },
    {
      "cell_type": "code",
      "metadata": {
        "colab": {
          "base_uri": "https://localhost:8080/"
        },
        "id": "n7kBWJd18A7Y",
        "outputId": "85393930-b4e7-4f28-831c-c77c3b4f7745"
      },
      "source": [
        "# Carregando a base de dados:\n",
        "data = pd.read_csv('iris.data')\n",
        "data.head()\n",
        "\n",
        "# Mostrando informações da base de dados:\n",
        "data.info()\n"
      ],
      "execution_count": 334,
      "outputs": [
        {
          "output_type": "stream",
          "text": [
            "<class 'pandas.core.frame.DataFrame'>\n",
            "RangeIndex: 150 entries, 0 to 149\n",
            "Data columns (total 5 columns):\n",
            " #   Column              Non-Null Count  Dtype  \n",
            "---  ------              --------------  -----  \n",
            " 0   sepal length in cm  150 non-null    float64\n",
            " 1   sepal width in cm   150 non-null    float64\n",
            " 2   petal length in cm  150 non-null    float64\n",
            " 3   petal width in cm   150 non-null    float64\n",
            " 4   class               150 non-null    object \n",
            "dtypes: float64(4), object(1)\n",
            "memory usage: 6.0+ KB\n"
          ],
          "name": "stdout"
        }
      ]
    },
    {
      "cell_type": "code",
      "metadata": {
        "colab": {
          "base_uri": "https://localhost:8080/"
        },
        "id": "G-2J4JqS8Opz",
        "outputId": "0c330a09-7b35-4988-f0a3-7915d4bd1a14"
      },
      "source": [
        "\n",
        "# Dividindo os dados em treino e teste:\n",
        "X_train, X_test, y_train, y_test = train_test_split(data.drop(\"class\",axis=1),data[\"class\"],test_size=0.3)\n",
        "\n",
        "# Mostrando a forma dos dados:\n",
        "print(X_train.shape,X_test.shape)\n",
        "print(y_train.shape,y_test.shape)"
      ],
      "execution_count": 335,
      "outputs": [
        {
          "output_type": "stream",
          "text": [
            "(105, 4) (45, 4)\n",
            "(105,) (45,)\n"
          ],
          "name": "stdout"
        }
      ]
    },
    {
      "cell_type": "code",
      "metadata": {
        "colab": {
          "base_uri": "https://localhost:8080/"
        },
        "id": "kyOY6-YNPCst",
        "outputId": "eeb5392a-12e7-48e9-c946-a4aaf85bfbc4"
      },
      "source": [
        "# Arvore de decisão:\n",
        "arvore = DecisionTreeClassifier(max_depth=3,min_samples_split=2,min_samples_leaf=2)\n",
        "arvore.fit(X_train, y_train)\n",
        "\n",
        "# Número de nós\n",
        "n_nodes = arvore.tree_.node_count\n",
        "print(\"Número de nós: {}\".format(n_nodes))"
      ],
      "execution_count": 336,
      "outputs": [
        {
          "output_type": "stream",
          "text": [
            "Número de nós: 9\n"
          ],
          "name": "stdout"
        }
      ]
    },
    {
      "cell_type": "code",
      "metadata": {
        "colab": {
          "base_uri": "https://localhost:8080/"
        },
        "id": "rpbU8ddiTwKP",
        "outputId": "5c3e0a03-025f-4e96-a43c-309f497db950"
      },
      "source": [
        "# Estrutura da árvore de decisão:\n",
        "n_nodes = arvore.tree_.node_count\n",
        "children_left = arvore.tree_.children_left\n",
        "children_right = arvore.tree_.children_right\n",
        "feature = arvore.tree_.feature\n",
        "threshold = arvore.tree_.threshold\n",
        "\n",
        "node_depth = np.zeros(shape=n_nodes, dtype=np.int64)\n",
        "is_leaves = np.zeros(shape=n_nodes, dtype=bool)\n",
        "stack = [(0, 0)]\n",
        "while len(stack) > 0:\n",
        "    node_id, depth = stack.pop()\n",
        "    node_depth[node_id] = depth\n",
        "\n",
        "    is_split_node = children_left[node_id] != children_right[node_id]\n",
        "\n",
        "    if is_split_node:\n",
        "        stack.append((children_left[node_id], depth + 1))\n",
        "        stack.append((children_right[node_id], depth + 1))\n",
        "    else:\n",
        "        is_leaves[node_id] = True\n",
        "\n",
        "print(\"A árvore binária tem {n} nodes e a \"\n",
        "      \"seuinte estrutura:\\n\".format(n=n_nodes))\n",
        "for i in range(n_nodes):\n",
        "    if is_leaves[i]:\n",
        "        print(\"{space}nó #{node} é um nó folha.\".format(\n",
        "            space=node_depth[i] * \"\\t\", node=i))\n",
        "    else:\n",
        "        print(\"{space}nó #{node} (nó teste): \"\n",
        "              \"vai para o {left} se o atributo {feature} <= {threshold} \"\n",
        "              \"se não, vai para o nó {right}.\".format(\n",
        "                  space=node_depth[i] * \"\\t\",\n",
        "                  node=i,\n",
        "                  left=children_left[i],\n",
        "                  feature=data.columns[feature[i]],\n",
        "                  threshold=threshold[i],\n",
        "                  right=children_right[i]))"
      ],
      "execution_count": 337,
      "outputs": [
        {
          "output_type": "stream",
          "text": [
            "A árvore binária tem 9 nodes e a seuinte estrutura:\n",
            "\n",
            "nó #0 (nó teste): vai para o 1 se o atributo petal length in cm <= 2.699999988079071 se não, vai para o nó 2.\n",
            "\tnó #1 é um nó folha.\n",
            "\tnó #2 (nó teste): vai para o 3 se o atributo petal length in cm <= 4.8500001430511475 se não, vai para o nó 6.\n",
            "\t\tnó #3 (nó teste): vai para o 4 se o atributo petal width in cm <= 1.6500000357627869 se não, vai para o nó 5.\n",
            "\t\t\tnó #4 é um nó folha.\n",
            "\t\t\tnó #5 é um nó folha.\n",
            "\t\tnó #6 (nó teste): vai para o 7 se o atributo petal width in cm <= 1.75 se não, vai para o nó 8.\n",
            "\t\t\tnó #7 é um nó folha.\n",
            "\t\t\tnó #8 é um nó folha.\n"
          ],
          "name": "stdout"
        }
      ]
    },
    {
      "cell_type": "code",
      "metadata": {
        "id": "_fO0j27d9MJl",
        "colab": {
          "base_uri": "https://localhost:8080/",
          "height": 698
        },
        "outputId": "20e2f8c1-df7c-4235-822f-8d5892dd2451"
      },
      "source": [
        "# Renderização de Árvore:\n",
        "dot_data = export_graphviz( \n",
        "         arvore, \n",
        "         out_file=None,\n",
        "         feature_names=data.drop('class',axis=1).columns,\n",
        "         class_names=['Iris-virginica','Iris-setosa', 'Iris-versicolor'],  \n",
        "         filled=True, rounded=True,\n",
        "         proportion=True,\n",
        "         node_ids=True,\n",
        "         rotate=False,\n",
        "         label='all',\n",
        "         special_characters=True\n",
        "        )\n",
        "\n",
        "graph = graphviz.Source(dot_data)  \n",
        "graph"
      ],
      "execution_count": 338,
      "outputs": [
        {
          "output_type": "execute_result",
          "data": {
            "text/plain": [
              "<graphviz.files.Source at 0x7fb33f6b7a50>"
            ],
            "image/svg+xml": "<?xml version=\"1.0\" encoding=\"UTF-8\" standalone=\"no\"?>\n<!DOCTYPE svg PUBLIC \"-//W3C//DTD SVG 1.1//EN\"\n \"http://www.w3.org/Graphics/SVG/1.1/DTD/svg11.dtd\">\n<!-- Generated by graphviz version 2.40.1 (20161225.0304)\n -->\n<!-- Title: Tree Pages: 1 -->\n<svg width=\"710pt\" height=\"493pt\"\n viewBox=\"0.00 0.00 709.50 493.00\" xmlns=\"http://www.w3.org/2000/svg\" xmlns:xlink=\"http://www.w3.org/1999/xlink\">\n<g id=\"graph0\" class=\"graph\" transform=\"scale(1 1) rotate(0) translate(4 489)\">\n<title>Tree</title>\n<polygon fill=\"#ffffff\" stroke=\"transparent\" points=\"-4,4 -4,-489 705.5,-489 705.5,4 -4,4\"/>\n<!-- 0 -->\n<g id=\"node1\" class=\"node\">\n<title>0</title>\n<path fill=\"#fdfcff\" stroke=\"#000000\" d=\"M353.5,-485C353.5,-485 177.5,-485 177.5,-485 171.5,-485 165.5,-479 165.5,-473 165.5,-473 165.5,-399 165.5,-399 165.5,-393 171.5,-387 177.5,-387 177.5,-387 353.5,-387 353.5,-387 359.5,-387 365.5,-393 365.5,-399 365.5,-399 365.5,-473 365.5,-473 365.5,-479 359.5,-485 353.5,-485\"/>\n<text text-anchor=\"start\" x=\"238.5\" y=\"-469.8\" font-family=\"Helvetica,sans-Serif\" font-size=\"14.00\" fill=\"#000000\">node #0</text>\n<text text-anchor=\"start\" x=\"191\" y=\"-454.8\" font-family=\"Helvetica,sans-Serif\" font-size=\"14.00\" fill=\"#000000\">petal length in cm ≤ 2.7</text>\n<text text-anchor=\"start\" x=\"227.5\" y=\"-439.8\" font-family=\"Helvetica,sans-Serif\" font-size=\"14.00\" fill=\"#000000\">gini = 0.665</text>\n<text text-anchor=\"start\" x=\"205\" y=\"-424.8\" font-family=\"Helvetica,sans-Serif\" font-size=\"14.00\" fill=\"#000000\">samples = 100.0%</text>\n<text text-anchor=\"start\" x=\"173.5\" y=\"-409.8\" font-family=\"Helvetica,sans-Serif\" font-size=\"14.00\" fill=\"#000000\">value = [0.343, 0.305, 0.352]</text>\n<text text-anchor=\"start\" x=\"197.5\" y=\"-394.8\" font-family=\"Helvetica,sans-Serif\" font-size=\"14.00\" fill=\"#000000\">class = Iris&#45;versicolor</text>\n</g>\n<!-- 1 -->\n<g id=\"node2\" class=\"node\">\n<title>1</title>\n<path fill=\"#e58139\" stroke=\"#000000\" d=\"M236,-343.5C236,-343.5 109,-343.5 109,-343.5 103,-343.5 97,-337.5 97,-331.5 97,-331.5 97,-272.5 97,-272.5 97,-266.5 103,-260.5 109,-260.5 109,-260.5 236,-260.5 236,-260.5 242,-260.5 248,-266.5 248,-272.5 248,-272.5 248,-331.5 248,-331.5 248,-337.5 242,-343.5 236,-343.5\"/>\n<text text-anchor=\"start\" x=\"145.5\" y=\"-328.3\" font-family=\"Helvetica,sans-Serif\" font-size=\"14.00\" fill=\"#000000\">node #1</text>\n<text text-anchor=\"start\" x=\"143\" y=\"-313.3\" font-family=\"Helvetica,sans-Serif\" font-size=\"14.00\" fill=\"#000000\">gini = 0.0</text>\n<text text-anchor=\"start\" x=\"116.5\" y=\"-298.3\" font-family=\"Helvetica,sans-Serif\" font-size=\"14.00\" fill=\"#000000\">samples = 34.3%</text>\n<text text-anchor=\"start\" x=\"105\" y=\"-283.3\" font-family=\"Helvetica,sans-Serif\" font-size=\"14.00\" fill=\"#000000\">value = [1.0, 0.0, 0.0]</text>\n<text text-anchor=\"start\" x=\"109\" y=\"-268.3\" font-family=\"Helvetica,sans-Serif\" font-size=\"14.00\" fill=\"#000000\">class = Iris&#45;virginica</text>\n</g>\n<!-- 0&#45;&gt;1 -->\n<g id=\"edge1\" class=\"edge\">\n<title>0&#45;&gt;1</title>\n<path fill=\"none\" stroke=\"#000000\" d=\"M231.3983,-386.8642C223.5494,-375.555 215.192,-363.5133 207.3133,-352.1612\"/>\n<polygon fill=\"#000000\" stroke=\"#000000\" points=\"209.9752,-349.8579 201.3981,-343.6381 204.2245,-353.849 209.9752,-349.8579\"/>\n<text text-anchor=\"middle\" x=\"196.9546\" y=\"-364.5401\" font-family=\"Helvetica,sans-Serif\" font-size=\"14.00\" fill=\"#000000\">True</text>\n</g>\n<!-- 2 -->\n<g id=\"node3\" class=\"node\">\n<title>2</title>\n<path fill=\"#eee4fb\" stroke=\"#000000\" d=\"M438.5,-351C438.5,-351 278.5,-351 278.5,-351 272.5,-351 266.5,-345 266.5,-339 266.5,-339 266.5,-265 266.5,-265 266.5,-259 272.5,-253 278.5,-253 278.5,-253 438.5,-253 438.5,-253 444.5,-253 450.5,-259 450.5,-265 450.5,-265 450.5,-339 450.5,-339 450.5,-345 444.5,-351 438.5,-351\"/>\n<text text-anchor=\"start\" x=\"331.5\" y=\"-335.8\" font-family=\"Helvetica,sans-Serif\" font-size=\"14.00\" fill=\"#000000\">node #2</text>\n<text text-anchor=\"start\" x=\"280\" y=\"-320.8\" font-family=\"Helvetica,sans-Serif\" font-size=\"14.00\" fill=\"#000000\">petal length in cm ≤ 4.85</text>\n<text text-anchor=\"start\" x=\"320.5\" y=\"-305.8\" font-family=\"Helvetica,sans-Serif\" font-size=\"14.00\" fill=\"#000000\">gini = 0.497</text>\n<text text-anchor=\"start\" x=\"302.5\" y=\"-290.8\" font-family=\"Helvetica,sans-Serif\" font-size=\"14.00\" fill=\"#000000\">samples = 65.7%</text>\n<text text-anchor=\"start\" x=\"274.5\" y=\"-275.8\" font-family=\"Helvetica,sans-Serif\" font-size=\"14.00\" fill=\"#000000\">value = [0.0, 0.464, 0.536]</text>\n<text text-anchor=\"start\" x=\"290.5\" y=\"-260.8\" font-family=\"Helvetica,sans-Serif\" font-size=\"14.00\" fill=\"#000000\">class = Iris&#45;versicolor</text>\n</g>\n<!-- 0&#45;&gt;2 -->\n<g id=\"edge2\" class=\"edge\">\n<title>0&#45;&gt;2</title>\n<path fill=\"none\" stroke=\"#000000\" d=\"M299.6017,-386.8642C305.7933,-377.9429 312.3014,-368.5657 318.6413,-359.4309\"/>\n<polygon fill=\"#000000\" stroke=\"#000000\" points=\"321.5761,-361.3407 324.4024,-351.1298 315.8254,-357.3495 321.5761,-361.3407\"/>\n<text text-anchor=\"middle\" x=\"328.846\" y=\"-372.0318\" font-family=\"Helvetica,sans-Serif\" font-size=\"14.00\" fill=\"#000000\">False</text>\n</g>\n<!-- 3 -->\n<g id=\"node4\" class=\"node\">\n<title>3</title>\n<path fill=\"#46e789\" stroke=\"#000000\" d=\"M337.5,-217C337.5,-217 177.5,-217 177.5,-217 171.5,-217 165.5,-211 165.5,-205 165.5,-205 165.5,-131 165.5,-131 165.5,-125 171.5,-119 177.5,-119 177.5,-119 337.5,-119 337.5,-119 343.5,-119 349.5,-125 349.5,-131 349.5,-131 349.5,-205 349.5,-205 349.5,-211 343.5,-217 337.5,-217\"/>\n<text text-anchor=\"start\" x=\"230.5\" y=\"-201.8\" font-family=\"Helvetica,sans-Serif\" font-size=\"14.00\" fill=\"#000000\">node #3</text>\n<text text-anchor=\"start\" x=\"182\" y=\"-186.8\" font-family=\"Helvetica,sans-Serif\" font-size=\"14.00\" fill=\"#000000\">petal width in cm ≤ 1.65</text>\n<text text-anchor=\"start\" x=\"219.5\" y=\"-171.8\" font-family=\"Helvetica,sans-Serif\" font-size=\"14.00\" fill=\"#000000\">gini = 0.117</text>\n<text text-anchor=\"start\" x=\"201.5\" y=\"-156.8\" font-family=\"Helvetica,sans-Serif\" font-size=\"14.00\" fill=\"#000000\">samples = 30.5%</text>\n<text text-anchor=\"start\" x=\"173.5\" y=\"-141.8\" font-family=\"Helvetica,sans-Serif\" font-size=\"14.00\" fill=\"#000000\">value = [0.0, 0.938, 0.062]</text>\n<text text-anchor=\"start\" x=\"199\" y=\"-126.8\" font-family=\"Helvetica,sans-Serif\" font-size=\"14.00\" fill=\"#000000\">class = Iris&#45;setosa</text>\n</g>\n<!-- 2&#45;&gt;3 -->\n<g id=\"edge3\" class=\"edge\">\n<title>2&#45;&gt;3</title>\n<path fill=\"none\" stroke=\"#000000\" d=\"M321.4648,-252.8642C314.6719,-243.8519 307.5284,-234.3743 300.5767,-225.1513\"/>\n<polygon fill=\"#000000\" stroke=\"#000000\" points=\"303.3448,-223.0088 294.5307,-217.1298 297.7548,-227.2222 303.3448,-223.0088\"/>\n</g>\n<!-- 6 -->\n<g id=\"node7\" class=\"node\">\n<title>6</title>\n<path fill=\"#8844e6\" stroke=\"#000000\" d=\"M539.5,-217C539.5,-217 379.5,-217 379.5,-217 373.5,-217 367.5,-211 367.5,-205 367.5,-205 367.5,-131 367.5,-131 367.5,-125 373.5,-119 379.5,-119 379.5,-119 539.5,-119 539.5,-119 545.5,-119 551.5,-125 551.5,-131 551.5,-131 551.5,-205 551.5,-205 551.5,-211 545.5,-217 539.5,-217\"/>\n<text text-anchor=\"start\" x=\"432.5\" y=\"-201.8\" font-family=\"Helvetica,sans-Serif\" font-size=\"14.00\" fill=\"#000000\">node #6</text>\n<text text-anchor=\"start\" x=\"384\" y=\"-186.8\" font-family=\"Helvetica,sans-Serif\" font-size=\"14.00\" fill=\"#000000\">petal width in cm ≤ 1.75</text>\n<text text-anchor=\"start\" x=\"421.5\" y=\"-171.8\" font-family=\"Helvetica,sans-Serif\" font-size=\"14.00\" fill=\"#000000\">gini = 0.102</text>\n<text text-anchor=\"start\" x=\"403.5\" y=\"-156.8\" font-family=\"Helvetica,sans-Serif\" font-size=\"14.00\" fill=\"#000000\">samples = 35.2%</text>\n<text text-anchor=\"start\" x=\"375.5\" y=\"-141.8\" font-family=\"Helvetica,sans-Serif\" font-size=\"14.00\" fill=\"#000000\">value = [0.0, 0.054, 0.946]</text>\n<text text-anchor=\"start\" x=\"391.5\" y=\"-126.8\" font-family=\"Helvetica,sans-Serif\" font-size=\"14.00\" fill=\"#000000\">class = Iris&#45;versicolor</text>\n</g>\n<!-- 2&#45;&gt;6 -->\n<g id=\"edge6\" class=\"edge\">\n<title>2&#45;&gt;6</title>\n<path fill=\"none\" stroke=\"#000000\" d=\"M395.5352,-252.8642C402.3281,-243.8519 409.4716,-234.3743 416.4233,-225.1513\"/>\n<polygon fill=\"#000000\" stroke=\"#000000\" points=\"419.2452,-227.2222 422.4693,-217.1298 413.6552,-223.0088 419.2452,-227.2222\"/>\n</g>\n<!-- 4 -->\n<g id=\"node5\" class=\"node\">\n<title>4</title>\n<path fill=\"#39e581\" stroke=\"#000000\" d=\"M139,-83C139,-83 12,-83 12,-83 6,-83 0,-77 0,-71 0,-71 0,-12 0,-12 0,-6 6,0 12,0 12,0 139,0 139,0 145,0 151,-6 151,-12 151,-12 151,-71 151,-71 151,-77 145,-83 139,-83\"/>\n<text text-anchor=\"start\" x=\"48.5\" y=\"-67.8\" font-family=\"Helvetica,sans-Serif\" font-size=\"14.00\" fill=\"#000000\">node #4</text>\n<text text-anchor=\"start\" x=\"46\" y=\"-52.8\" font-family=\"Helvetica,sans-Serif\" font-size=\"14.00\" fill=\"#000000\">gini = 0.0</text>\n<text text-anchor=\"start\" x=\"19.5\" y=\"-37.8\" font-family=\"Helvetica,sans-Serif\" font-size=\"14.00\" fill=\"#000000\">samples = 27.6%</text>\n<text text-anchor=\"start\" x=\"8\" y=\"-22.8\" font-family=\"Helvetica,sans-Serif\" font-size=\"14.00\" fill=\"#000000\">value = [0.0, 1.0, 0.0]</text>\n<text text-anchor=\"start\" x=\"17\" y=\"-7.8\" font-family=\"Helvetica,sans-Serif\" font-size=\"14.00\" fill=\"#000000\">class = Iris&#45;setosa</text>\n</g>\n<!-- 3&#45;&gt;4 -->\n<g id=\"edge4\" class=\"edge\">\n<title>3&#45;&gt;4</title>\n<path fill=\"none\" stroke=\"#000000\" d=\"M186.8736,-118.9107C172.8067,-109.1335 158.0552,-98.8804 144.0591,-89.1524\"/>\n<polygon fill=\"#000000\" stroke=\"#000000\" points=\"145.664,-86.0055 135.4551,-83.1721 141.6688,-91.7534 145.664,-86.0055\"/>\n</g>\n<!-- 5 -->\n<g id=\"node6\" class=\"node\">\n<title>5</title>\n<path fill=\"#c09cf2\" stroke=\"#000000\" d=\"M341.5,-83C341.5,-83 181.5,-83 181.5,-83 175.5,-83 169.5,-77 169.5,-71 169.5,-71 169.5,-12 169.5,-12 169.5,-6 175.5,0 181.5,0 181.5,0 341.5,0 341.5,0 347.5,0 353.5,-6 353.5,-12 353.5,-12 353.5,-71 353.5,-71 353.5,-77 347.5,-83 341.5,-83\"/>\n<text text-anchor=\"start\" x=\"234.5\" y=\"-67.8\" font-family=\"Helvetica,sans-Serif\" font-size=\"14.00\" fill=\"#000000\">node #5</text>\n<text text-anchor=\"start\" x=\"223.5\" y=\"-52.8\" font-family=\"Helvetica,sans-Serif\" font-size=\"14.00\" fill=\"#000000\">gini = 0.444</text>\n<text text-anchor=\"start\" x=\"209.5\" y=\"-37.8\" font-family=\"Helvetica,sans-Serif\" font-size=\"14.00\" fill=\"#000000\">samples = 2.9%</text>\n<text text-anchor=\"start\" x=\"177.5\" y=\"-22.8\" font-family=\"Helvetica,sans-Serif\" font-size=\"14.00\" fill=\"#000000\">value = [0.0, 0.333, 0.667]</text>\n<text text-anchor=\"start\" x=\"193.5\" y=\"-7.8\" font-family=\"Helvetica,sans-Serif\" font-size=\"14.00\" fill=\"#000000\">class = Iris&#45;versicolor</text>\n</g>\n<!-- 3&#45;&gt;5 -->\n<g id=\"edge5\" class=\"edge\">\n<title>3&#45;&gt;5</title>\n<path fill=\"none\" stroke=\"#000000\" d=\"M259.058,-118.7296C259.3231,-110.3452 259.5991,-101.6158 259.8661,-93.1714\"/>\n<polygon fill=\"#000000\" stroke=\"#000000\" points=\"263.3681,-93.1606 260.186,-83.055 256.3716,-92.9393 263.3681,-93.1606\"/>\n</g>\n<!-- 7 -->\n<g id=\"node8\" class=\"node\">\n<title>7</title>\n<path fill=\"#d5bdf6\" stroke=\"#000000\" d=\"M519.5,-83C519.5,-83 391.5,-83 391.5,-83 385.5,-83 379.5,-77 379.5,-71 379.5,-71 379.5,-12 379.5,-12 379.5,-6 385.5,0 391.5,0 391.5,0 519.5,0 519.5,0 525.5,0 531.5,-6 531.5,-12 531.5,-12 531.5,-71 531.5,-71 531.5,-77 525.5,-83 519.5,-83\"/>\n<text text-anchor=\"start\" x=\"428.5\" y=\"-67.8\" font-family=\"Helvetica,sans-Serif\" font-size=\"14.00\" fill=\"#000000\">node #7</text>\n<text text-anchor=\"start\" x=\"422\" y=\"-52.8\" font-family=\"Helvetica,sans-Serif\" font-size=\"14.00\" fill=\"#000000\">gini = 0.48</text>\n<text text-anchor=\"start\" x=\"403.5\" y=\"-37.8\" font-family=\"Helvetica,sans-Serif\" font-size=\"14.00\" fill=\"#000000\">samples = 4.8%</text>\n<text text-anchor=\"start\" x=\"388\" y=\"-22.8\" font-family=\"Helvetica,sans-Serif\" font-size=\"14.00\" fill=\"#000000\">value = [0.0, 0.4, 0.6]</text>\n<text text-anchor=\"start\" x=\"387.5\" y=\"-7.8\" font-family=\"Helvetica,sans-Serif\" font-size=\"14.00\" fill=\"#000000\">class = Iris&#45;versicolor</text>\n</g>\n<!-- 6&#45;&gt;7 -->\n<g id=\"edge7\" class=\"edge\">\n<title>6&#45;&gt;7</title>\n<path fill=\"none\" stroke=\"#000000\" d=\"M457.942,-118.7296C457.6769,-110.3452 457.4009,-101.6158 457.1339,-93.1714\"/>\n<polygon fill=\"#000000\" stroke=\"#000000\" points=\"460.6284,-92.9393 456.814,-83.055 453.6319,-93.1606 460.6284,-92.9393\"/>\n</g>\n<!-- 8 -->\n<g id=\"node9\" class=\"node\">\n<title>8</title>\n<path fill=\"#8139e5\" stroke=\"#000000\" d=\"M689.5,-83C689.5,-83 561.5,-83 561.5,-83 555.5,-83 549.5,-77 549.5,-71 549.5,-71 549.5,-12 549.5,-12 549.5,-6 555.5,0 561.5,0 561.5,0 689.5,0 689.5,0 695.5,0 701.5,-6 701.5,-12 701.5,-12 701.5,-71 701.5,-71 701.5,-77 695.5,-83 689.5,-83\"/>\n<text text-anchor=\"start\" x=\"598.5\" y=\"-67.8\" font-family=\"Helvetica,sans-Serif\" font-size=\"14.00\" fill=\"#000000\">node #8</text>\n<text text-anchor=\"start\" x=\"596\" y=\"-52.8\" font-family=\"Helvetica,sans-Serif\" font-size=\"14.00\" fill=\"#000000\">gini = 0.0</text>\n<text text-anchor=\"start\" x=\"569.5\" y=\"-37.8\" font-family=\"Helvetica,sans-Serif\" font-size=\"14.00\" fill=\"#000000\">samples = 30.5%</text>\n<text text-anchor=\"start\" x=\"558\" y=\"-22.8\" font-family=\"Helvetica,sans-Serif\" font-size=\"14.00\" fill=\"#000000\">value = [0.0, 0.0, 1.0]</text>\n<text text-anchor=\"start\" x=\"557.5\" y=\"-7.8\" font-family=\"Helvetica,sans-Serif\" font-size=\"14.00\" fill=\"#000000\">class = Iris&#45;versicolor</text>\n</g>\n<!-- 6&#45;&gt;8 -->\n<g id=\"edge8\" class=\"edge\">\n<title>6&#45;&gt;8</title>\n<path fill=\"none\" stroke=\"#000000\" d=\"M524.1553,-118.7296C536.8504,-109.0553 550.1483,-98.9216 562.7788,-89.2966\"/>\n<polygon fill=\"#000000\" stroke=\"#000000\" points=\"565.137,-91.9 570.9694,-83.055 560.8942,-86.3323 565.137,-91.9\"/>\n</g>\n</g>\n</svg>\n"
          },
          "metadata": {
            "tags": []
          },
          "execution_count": 338
        }
      ]
    },
    {
      "cell_type": "code",
      "metadata": {
        "id": "WBnZfNqiixx_",
        "colab": {
          "base_uri": "https://localhost:8080/"
        },
        "outputId": "bb6a070e-2059-45d8-fb83-c64c077bc73f"
      },
      "source": [
        "# Executando o método predict:\n",
        "resultado = arvore.predict(X_test)\n",
        "print(resultado)\n",
        "\n",
        "# Relatório de métricas:\n",
        "print(metrics.classification_report(y_test,resultado))"
      ],
      "execution_count": 339,
      "outputs": [
        {
          "output_type": "stream",
          "text": [
            "['Iris-setosa' 'Iris-setosa' 'Iris-versicolor' 'Iris-virginica'\n",
            " 'Iris-versicolor' 'Iris-versicolor' 'Iris-setosa' 'Iris-setosa'\n",
            " 'Iris-versicolor' 'Iris-virginica' 'Iris-versicolor' 'Iris-versicolor'\n",
            " 'Iris-virginica' 'Iris-versicolor' 'Iris-versicolor' 'Iris-versicolor'\n",
            " 'Iris-setosa' 'Iris-setosa' 'Iris-virginica' 'Iris-virginica'\n",
            " 'Iris-virginica' 'Iris-setosa' 'Iris-setosa' 'Iris-versicolor'\n",
            " 'Iris-virginica' 'Iris-setosa' 'Iris-versicolor' 'Iris-virginica'\n",
            " 'Iris-setosa' 'Iris-versicolor' 'Iris-virginica' 'Iris-setosa'\n",
            " 'Iris-virginica' 'Iris-versicolor' 'Iris-virginica' 'Iris-virginica'\n",
            " 'Iris-setosa' 'Iris-versicolor' 'Iris-versicolor' 'Iris-virginica'\n",
            " 'Iris-virginica' 'Iris-setosa' 'Iris-virginica' 'Iris-versicolor'\n",
            " 'Iris-setosa']\n",
            "                 precision    recall  f1-score   support\n",
            "\n",
            "    Iris-setosa       1.00      1.00      1.00        14\n",
            "Iris-versicolor       1.00      0.89      0.94        18\n",
            " Iris-virginica       0.87      1.00      0.93        13\n",
            "\n",
            "       accuracy                           0.96        45\n",
            "      macro avg       0.96      0.96      0.96        45\n",
            "   weighted avg       0.96      0.96      0.96        45\n",
            "\n"
          ],
          "name": "stdout"
        }
      ]
    }
  ]
}