{
  "nbformat": 4,
  "nbformat_minor": 0,
  "metadata": {
    "colab": {
      "name": "arvorededecisao.ipynb",
      "provenance": [],
      "collapsed_sections": [],
      "authorship_tag": "ABX9TyOAQ8hCrrRrB2ZSFwJ+Z/Ge",
      "include_colab_link": true
    },
    "kernelspec": {
      "name": "python3",
      "display_name": "Python 3"
    },
    "language_info": {
      "name": "python"
    }
  },
  "cells": [
    {
      "cell_type": "markdown",
      "metadata": {
        "id": "view-in-github",
        "colab_type": "text"
      },
      "source": [
        "<a href=\"https://colab.research.google.com/github/victorhcunha/ArvoreDeDecisao/blob/main/arvorededecisao.ipynb\" target=\"_parent\"><img src=\"https://colab.research.google.com/assets/colab-badge.svg\" alt=\"Open In Colab\"/></a>"
      ]
    },
    {
      "cell_type": "code",
      "metadata": {
        "id": "DU2OVHXZ4lG-"
      },
      "source": [
        "# Importando as bibliotecas necessárias:\n",
        "import pandas as pd\n",
        "from sklearn.tree import DecisionTreeClassifier,export_graphviz #arvoredeDecisao e #renderizacao\n",
        "from sklearn.model_selection import train_test_split #divisaoDadosDeTeste\n",
        "from sklearn import metrics\n",
        "import numpy as np\n",
        "# Renderização gráfica\n",
        "import pydot\n",
        "import graphviz\n",
        "# Renderização interativa\n",
        "from ipywidgets import interactive\n",
        "from IPython.display import SVG,display\n",
        "from graphviz import Source"
      ],
      "execution_count": null,
      "outputs": []
    },
    {
      "cell_type": "code",
      "metadata": {
        "colab": {
          "base_uri": "https://localhost:8080/"
        },
        "id": "n7kBWJd18A7Y",
        "outputId": "3dfe971d-7580-4ee2-bf18-1bf0f8d9d21a"
      },
      "source": [
        "# Carregando a base de dados:\n",
        "data = pd.read_csv('iris.data')\n",
        "data.head()\n",
        "\n",
        "# Mostrando informações da base de dados:\n",
        "data.info()\n"
      ],
      "execution_count": null,
      "outputs": [
        {
          "output_type": "stream",
          "text": [
            "<class 'pandas.core.frame.DataFrame'>\n",
            "RangeIndex: 150 entries, 0 to 149\n",
            "Data columns (total 5 columns):\n",
            " #   Column              Non-Null Count  Dtype  \n",
            "---  ------              --------------  -----  \n",
            " 0   sepal length in cm  150 non-null    float64\n",
            " 1   sepal width in cm   150 non-null    float64\n",
            " 2   petal length in cm  150 non-null    float64\n",
            " 3   petal width in cm   150 non-null    float64\n",
            " 4   class               150 non-null    object \n",
            "dtypes: float64(4), object(1)\n",
            "memory usage: 6.0+ KB\n"
          ],
          "name": "stdout"
        }
      ]
    },
    {
      "cell_type": "code",
      "metadata": {
        "colab": {
          "base_uri": "https://localhost:8080/"
        },
        "id": "G-2J4JqS8Opz",
        "outputId": "919fa4de-e75d-454a-d5ce-64fc4851eb34"
      },
      "source": [
        "\n",
        "# Dividindo os dados em treino e teste:\n",
        "X_train, X_test, y_train, y_test = train_test_split(data.drop(\"class\",axis=1),data[\"class\"],test_size=0.3)\n",
        "\n",
        "# Mostrando a forma dos dados:\n",
        "print(X_train.shape,X_test.shape)\n",
        "print(y_train.shape,y_test.shape)"
      ],
      "execution_count": null,
      "outputs": [
        {
          "output_type": "stream",
          "text": [
            "(105, 4) (45, 4)\n",
            "(105,) (45,)\n"
          ],
          "name": "stdout"
        }
      ]
    },
    {
      "cell_type": "code",
      "metadata": {
        "colab": {
          "base_uri": "https://localhost:8080/"
        },
        "id": "O62ulotD8Roc",
        "outputId": "4034119f-4cdb-442d-96ca-7e0fcf33e325"
      },
      "source": [
        "\n",
        "\n",
        "# Instânciando o objeto classificador:\n",
        "classifier = DecisionTreeClassifier()\n",
        "\n",
        "# Treinando o modelo de arvore de decisão:\n",
        "classifier = classifier.fit(X_train,y_train)\n",
        "\n",
        "# Verificando os atributos mais importantes/relevantes para o modelo treinado:\n",
        "print(classifier.feature_importances_)\n",
        "\n",
        "for feature,importancia in zip(data.columns,classifier.feature_importances_):\n",
        "    print(\"{}:{}\".format(feature, importancia))\n"
      ],
      "execution_count": null,
      "outputs": [
        {
          "output_type": "stream",
          "text": [
            "[0.01429739 0.01906318 0.04055877 0.92608066]\n",
            "sepal length in cm:0.014297385620915034\n",
            "sepal width in cm:0.01906318082788671\n",
            "petal length in cm:0.040558774014656386\n",
            "petal width in cm:0.9260806595365418\n"
          ],
          "name": "stdout"
        }
      ]
    },
    {
      "cell_type": "code",
      "metadata": {
        "colab": {
          "base_uri": "https://localhost:8080/"
        },
        "id": "-YKO5Ypz9CKV",
        "outputId": "3f2f628e-e53d-4a96-9731-fe6a0d2a8fab"
      },
      "source": [
        "\n",
        "# Executando o método predict:\n",
        "resultado = classifier.predict(X_test)\n",
        "print(resultado)\n",
        "\n",
        "# Relatório de métricas:\n",
        "print(metrics.classification_report(y_test,resultado))\n",
        "\n"
      ],
      "execution_count": null,
      "outputs": [
        {
          "output_type": "stream",
          "text": [
            "['Iris-setosa' 'Iris-versicolor' 'Iris-setosa' 'Iris-setosa'\n",
            " 'Iris-virginica' 'Iris-setosa' 'Iris-virginica' 'Iris-setosa'\n",
            " 'Iris-virginica' 'Iris-versicolor' 'Iris-setosa' 'Iris-virginica'\n",
            " 'Iris-setosa' 'Iris-versicolor' 'Iris-versicolor' 'Iris-setosa'\n",
            " 'Iris-virginica' 'Iris-versicolor' 'Iris-virginica' 'Iris-virginica'\n",
            " 'Iris-virginica' 'Iris-versicolor' 'Iris-setosa' 'Iris-versicolor'\n",
            " 'Iris-versicolor' 'Iris-versicolor' 'Iris-versicolor' 'Iris-virginica'\n",
            " 'Iris-versicolor' 'Iris-virginica' 'Iris-versicolor' 'Iris-versicolor'\n",
            " 'Iris-setosa' 'Iris-setosa' 'Iris-setosa' 'Iris-virginica' 'Iris-setosa'\n",
            " 'Iris-versicolor' 'Iris-versicolor' 'Iris-setosa' 'Iris-versicolor'\n",
            " 'Iris-setosa' 'Iris-setosa' 'Iris-versicolor' 'Iris-versicolor']\n",
            "                 precision    recall  f1-score   support\n",
            "\n",
            "    Iris-setosa       1.00      1.00      1.00        16\n",
            "Iris-versicolor       0.89      1.00      0.94        16\n",
            " Iris-virginica       1.00      0.85      0.92        13\n",
            "\n",
            "       accuracy                           0.96        45\n",
            "      macro avg       0.96      0.95      0.95        45\n",
            "   weighted avg       0.96      0.96      0.96        45\n",
            "\n"
          ],
          "name": "stdout"
        }
      ]
    },
    {
      "cell_type": "code",
      "metadata": {
        "colab": {
          "base_uri": "https://localhost:8080/",
          "height": 1000
        },
        "id": "_fO0j27d9MJl",
        "outputId": "0e1e4b34-cd68-48db-fc8e-aed65a72eac4"
      },
      "source": [
        "# Renderização de Árvore:\n",
        "dot_data = export_graphviz( \n",
        "         classifier, \n",
        "         out_file=None,\n",
        "         feature_names=data.drop('class',axis=1).columns,\n",
        "         class_names=['Iris-virginica','Iris-setosa', 'Iris-versicolor'],  \n",
        "         filled=True, rounded=True,\n",
        "         proportion=True,\n",
        "         node_ids=True,\n",
        "         rotate=False,\n",
        "         label='all',\n",
        "         special_characters=True\n",
        "        )\n",
        "\n",
        "graph = graphviz.Source(dot_data)  \n",
        "graph"
      ],
      "execution_count": null,
      "outputs": [
        {
          "output_type": "execute_result",
          "data": {
            "text/plain": [
              "<graphviz.files.Source at 0x7fe6a63fef10>"
            ],
            "image/svg+xml": "<?xml version=\"1.0\" encoding=\"UTF-8\" standalone=\"no\"?>\n<!DOCTYPE svg PUBLIC \"-//W3C//DTD SVG 1.1//EN\"\n \"http://www.w3.org/Graphics/SVG/1.1/DTD/svg11.dtd\">\n<!-- Generated by graphviz version 2.40.1 (20161225.0304)\n -->\n<!-- Title: Tree Pages: 1 -->\n<svg width=\"1043pt\" height=\"761pt\"\n viewBox=\"0.00 0.00 1042.50 761.00\" xmlns=\"http://www.w3.org/2000/svg\" xmlns:xlink=\"http://www.w3.org/1999/xlink\">\n<g id=\"graph0\" class=\"graph\" transform=\"scale(1 1) rotate(0) translate(4 757)\">\n<title>Tree</title>\n<polygon fill=\"#ffffff\" stroke=\"transparent\" points=\"-4,4 -4,-757 1038.5,-757 1038.5,4 -4,4\"/>\n<!-- 0 -->\n<g id=\"node1\" class=\"node\">\n<title>0</title>\n<path fill=\"#faf7fe\" stroke=\"#000000\" d=\"M635.5,-753C635.5,-753 459.5,-753 459.5,-753 453.5,-753 447.5,-747 447.5,-741 447.5,-741 447.5,-667 447.5,-667 447.5,-661 453.5,-655 459.5,-655 459.5,-655 635.5,-655 635.5,-655 641.5,-655 647.5,-661 647.5,-667 647.5,-667 647.5,-741 647.5,-741 647.5,-747 641.5,-753 635.5,-753\"/>\n<text text-anchor=\"start\" x=\"520.5\" y=\"-737.8\" font-family=\"Helvetica,sans-Serif\" font-size=\"14.00\" fill=\"#000000\">node #0</text>\n<text text-anchor=\"start\" x=\"476\" y=\"-722.8\" font-family=\"Helvetica,sans-Serif\" font-size=\"14.00\" fill=\"#000000\">petal width in cm ≤ 0.8</text>\n<text text-anchor=\"start\" x=\"509.5\" y=\"-707.8\" font-family=\"Helvetica,sans-Serif\" font-size=\"14.00\" fill=\"#000000\">gini = 0.666</text>\n<text text-anchor=\"start\" x=\"487\" y=\"-692.8\" font-family=\"Helvetica,sans-Serif\" font-size=\"14.00\" fill=\"#000000\">samples = 100.0%</text>\n<text text-anchor=\"start\" x=\"455.5\" y=\"-677.8\" font-family=\"Helvetica,sans-Serif\" font-size=\"14.00\" fill=\"#000000\">value = [0.324, 0.324, 0.352]</text>\n<text text-anchor=\"start\" x=\"479.5\" y=\"-662.8\" font-family=\"Helvetica,sans-Serif\" font-size=\"14.00\" fill=\"#000000\">class = Iris&#45;versicolor</text>\n</g>\n<!-- 1 -->\n<g id=\"node2\" class=\"node\">\n<title>1</title>\n<path fill=\"#e58139\" stroke=\"#000000\" d=\"M518,-611.5C518,-611.5 391,-611.5 391,-611.5 385,-611.5 379,-605.5 379,-599.5 379,-599.5 379,-540.5 379,-540.5 379,-534.5 385,-528.5 391,-528.5 391,-528.5 518,-528.5 518,-528.5 524,-528.5 530,-534.5 530,-540.5 530,-540.5 530,-599.5 530,-599.5 530,-605.5 524,-611.5 518,-611.5\"/>\n<text text-anchor=\"start\" x=\"427.5\" y=\"-596.3\" font-family=\"Helvetica,sans-Serif\" font-size=\"14.00\" fill=\"#000000\">node #1</text>\n<text text-anchor=\"start\" x=\"425\" y=\"-581.3\" font-family=\"Helvetica,sans-Serif\" font-size=\"14.00\" fill=\"#000000\">gini = 0.0</text>\n<text text-anchor=\"start\" x=\"398.5\" y=\"-566.3\" font-family=\"Helvetica,sans-Serif\" font-size=\"14.00\" fill=\"#000000\">samples = 32.4%</text>\n<text text-anchor=\"start\" x=\"387\" y=\"-551.3\" font-family=\"Helvetica,sans-Serif\" font-size=\"14.00\" fill=\"#000000\">value = [1.0, 0.0, 0.0]</text>\n<text text-anchor=\"start\" x=\"391\" y=\"-536.3\" font-family=\"Helvetica,sans-Serif\" font-size=\"14.00\" fill=\"#000000\">class = Iris&#45;virginica</text>\n</g>\n<!-- 0&#45;&gt;1 -->\n<g id=\"edge1\" class=\"edge\">\n<title>0&#45;&gt;1</title>\n<path fill=\"none\" stroke=\"#000000\" d=\"M513.3983,-654.8642C505.5494,-643.555 497.192,-631.5133 489.3133,-620.1612\"/>\n<polygon fill=\"#000000\" stroke=\"#000000\" points=\"491.9752,-617.8579 483.3981,-611.6381 486.2245,-621.849 491.9752,-617.8579\"/>\n<text text-anchor=\"middle\" x=\"478.9546\" y=\"-632.5401\" font-family=\"Helvetica,sans-Serif\" font-size=\"14.00\" fill=\"#000000\">True</text>\n</g>\n<!-- 2 -->\n<g id=\"node3\" class=\"node\">\n<title>2</title>\n<path fill=\"#f5effd\" stroke=\"#000000\" d=\"M720.5,-619C720.5,-619 560.5,-619 560.5,-619 554.5,-619 548.5,-613 548.5,-607 548.5,-607 548.5,-533 548.5,-533 548.5,-527 554.5,-521 560.5,-521 560.5,-521 720.5,-521 720.5,-521 726.5,-521 732.5,-527 732.5,-533 732.5,-533 732.5,-607 732.5,-607 732.5,-613 726.5,-619 720.5,-619\"/>\n<text text-anchor=\"start\" x=\"613.5\" y=\"-603.8\" font-family=\"Helvetica,sans-Serif\" font-size=\"14.00\" fill=\"#000000\">node #2</text>\n<text text-anchor=\"start\" x=\"565\" y=\"-588.8\" font-family=\"Helvetica,sans-Serif\" font-size=\"14.00\" fill=\"#000000\">petal width in cm ≤ 1.75</text>\n<text text-anchor=\"start\" x=\"602.5\" y=\"-573.8\" font-family=\"Helvetica,sans-Serif\" font-size=\"14.00\" fill=\"#000000\">gini = 0.499</text>\n<text text-anchor=\"start\" x=\"584.5\" y=\"-558.8\" font-family=\"Helvetica,sans-Serif\" font-size=\"14.00\" fill=\"#000000\">samples = 67.6%</text>\n<text text-anchor=\"start\" x=\"556.5\" y=\"-543.8\" font-family=\"Helvetica,sans-Serif\" font-size=\"14.00\" fill=\"#000000\">value = [0.0, 0.479, 0.521]</text>\n<text text-anchor=\"start\" x=\"572.5\" y=\"-528.8\" font-family=\"Helvetica,sans-Serif\" font-size=\"14.00\" fill=\"#000000\">class = Iris&#45;versicolor</text>\n</g>\n<!-- 0&#45;&gt;2 -->\n<g id=\"edge2\" class=\"edge\">\n<title>0&#45;&gt;2</title>\n<path fill=\"none\" stroke=\"#000000\" d=\"M581.6017,-654.8642C587.7933,-645.9429 594.3014,-636.5657 600.6413,-627.4309\"/>\n<polygon fill=\"#000000\" stroke=\"#000000\" points=\"603.5761,-629.3407 606.4024,-619.1298 597.8254,-625.3495 603.5761,-629.3407\"/>\n<text text-anchor=\"middle\" x=\"610.846\" y=\"-640.0318\" font-family=\"Helvetica,sans-Serif\" font-size=\"14.00\" fill=\"#000000\">False</text>\n</g>\n<!-- 3 -->\n<g id=\"node4\" class=\"node\">\n<title>3</title>\n<path fill=\"#4be78c\" stroke=\"#000000\" d=\"M588.5,-485C588.5,-485 428.5,-485 428.5,-485 422.5,-485 416.5,-479 416.5,-473 416.5,-473 416.5,-399 416.5,-399 416.5,-393 422.5,-387 428.5,-387 428.5,-387 588.5,-387 588.5,-387 594.5,-387 600.5,-393 600.5,-399 600.5,-399 600.5,-473 600.5,-473 600.5,-479 594.5,-485 588.5,-485\"/>\n<text text-anchor=\"start\" x=\"481.5\" y=\"-469.8\" font-family=\"Helvetica,sans-Serif\" font-size=\"14.00\" fill=\"#000000\">node #3</text>\n<text text-anchor=\"start\" x=\"430\" y=\"-454.8\" font-family=\"Helvetica,sans-Serif\" font-size=\"14.00\" fill=\"#000000\">petal length in cm ≤ 5.05</text>\n<text text-anchor=\"start\" x=\"470.5\" y=\"-439.8\" font-family=\"Helvetica,sans-Serif\" font-size=\"14.00\" fill=\"#000000\">gini = 0.153</text>\n<text text-anchor=\"start\" x=\"452.5\" y=\"-424.8\" font-family=\"Helvetica,sans-Serif\" font-size=\"14.00\" fill=\"#000000\">samples = 34.3%</text>\n<text text-anchor=\"start\" x=\"424.5\" y=\"-409.8\" font-family=\"Helvetica,sans-Serif\" font-size=\"14.00\" fill=\"#000000\">value = [0.0, 0.917, 0.083]</text>\n<text text-anchor=\"start\" x=\"450\" y=\"-394.8\" font-family=\"Helvetica,sans-Serif\" font-size=\"14.00\" fill=\"#000000\">class = Iris&#45;setosa</text>\n</g>\n<!-- 2&#45;&gt;3 -->\n<g id=\"edge3\" class=\"edge\">\n<title>2&#45;&gt;3</title>\n<path fill=\"none\" stroke=\"#000000\" d=\"M592.0976,-520.8642C582.9507,-511.5788 573.3174,-501.7995 563.9731,-492.3136\"/>\n<polygon fill=\"#000000\" stroke=\"#000000\" points=\"566.4077,-489.7977 556.8965,-485.1298 561.4209,-494.7101 566.4077,-489.7977\"/>\n</g>\n<!-- 12 -->\n<g id=\"node13\" class=\"node\">\n<title>12</title>\n<path fill=\"#853fe6\" stroke=\"#000000\" d=\"M852.5,-485C852.5,-485 692.5,-485 692.5,-485 686.5,-485 680.5,-479 680.5,-473 680.5,-473 680.5,-399 680.5,-399 680.5,-393 686.5,-387 692.5,-387 692.5,-387 852.5,-387 852.5,-387 858.5,-387 864.5,-393 864.5,-399 864.5,-399 864.5,-473 864.5,-473 864.5,-479 858.5,-485 852.5,-485\"/>\n<text text-anchor=\"start\" x=\"741.5\" y=\"-469.8\" font-family=\"Helvetica,sans-Serif\" font-size=\"14.00\" fill=\"#000000\">node #12</text>\n<text text-anchor=\"start\" x=\"694\" y=\"-454.8\" font-family=\"Helvetica,sans-Serif\" font-size=\"14.00\" fill=\"#000000\">petal length in cm ≤ 4.85</text>\n<text text-anchor=\"start\" x=\"734.5\" y=\"-439.8\" font-family=\"Helvetica,sans-Serif\" font-size=\"14.00\" fill=\"#000000\">gini = 0.056</text>\n<text text-anchor=\"start\" x=\"716.5\" y=\"-424.8\" font-family=\"Helvetica,sans-Serif\" font-size=\"14.00\" fill=\"#000000\">samples = 33.3%</text>\n<text text-anchor=\"start\" x=\"688.5\" y=\"-409.8\" font-family=\"Helvetica,sans-Serif\" font-size=\"14.00\" fill=\"#000000\">value = [0.0, 0.029, 0.971]</text>\n<text text-anchor=\"start\" x=\"704.5\" y=\"-394.8\" font-family=\"Helvetica,sans-Serif\" font-size=\"14.00\" fill=\"#000000\">class = Iris&#45;versicolor</text>\n</g>\n<!-- 2&#45;&gt;12 -->\n<g id=\"edge12\" class=\"edge\">\n<title>2&#45;&gt;12</title>\n<path fill=\"none\" stroke=\"#000000\" d=\"M688.9024,-520.8642C698.0493,-511.5788 707.6826,-501.7995 717.0269,-492.3136\"/>\n<polygon fill=\"#000000\" stroke=\"#000000\" points=\"719.5791,-494.7101 724.1035,-485.1298 714.5923,-489.7977 719.5791,-494.7101\"/>\n</g>\n<!-- 4 -->\n<g id=\"node5\" class=\"node\">\n<title>4</title>\n<path fill=\"#3fe685\" stroke=\"#000000\" d=\"M325,-351C325,-351 182,-351 182,-351 176,-351 170,-345 170,-339 170,-339 170,-265 170,-265 170,-259 176,-253 182,-253 182,-253 325,-253 325,-253 331,-253 337,-259 337,-265 337,-265 337,-339 337,-339 337,-345 331,-351 325,-351\"/>\n<text text-anchor=\"start\" x=\"226.5\" y=\"-335.8\" font-family=\"Helvetica,sans-Serif\" font-size=\"14.00\" fill=\"#000000\">node #4</text>\n<text text-anchor=\"start\" x=\"182\" y=\"-320.8\" font-family=\"Helvetica,sans-Serif\" font-size=\"14.00\" fill=\"#000000\">petal width in cm ≤ 1.6</text>\n<text text-anchor=\"start\" x=\"215.5\" y=\"-305.8\" font-family=\"Helvetica,sans-Serif\" font-size=\"14.00\" fill=\"#000000\">gini = 0.059</text>\n<text text-anchor=\"start\" x=\"197.5\" y=\"-290.8\" font-family=\"Helvetica,sans-Serif\" font-size=\"14.00\" fill=\"#000000\">samples = 31.4%</text>\n<text text-anchor=\"start\" x=\"178\" y=\"-275.8\" font-family=\"Helvetica,sans-Serif\" font-size=\"14.00\" fill=\"#000000\">value = [0.0, 0.97, 0.03]</text>\n<text text-anchor=\"start\" x=\"195\" y=\"-260.8\" font-family=\"Helvetica,sans-Serif\" font-size=\"14.00\" fill=\"#000000\">class = Iris&#45;setosa</text>\n</g>\n<!-- 3&#45;&gt;4 -->\n<g id=\"edge4\" class=\"edge\">\n<title>3&#45;&gt;4</title>\n<path fill=\"none\" stroke=\"#000000\" d=\"M416.4391,-387.6229C393.6437,-375.6441 369.2065,-362.8027 346.3726,-350.8037\"/>\n<polygon fill=\"#000000\" stroke=\"#000000\" points=\"347.8521,-347.6273 337.3718,-346.0738 344.5959,-353.8239 347.8521,-347.6273\"/>\n</g>\n<!-- 9 -->\n<g id=\"node10\" class=\"node\">\n<title>9</title>\n<path fill=\"#c09cf2\" stroke=\"#000000\" d=\"M588.5,-351C588.5,-351 428.5,-351 428.5,-351 422.5,-351 416.5,-345 416.5,-339 416.5,-339 416.5,-265 416.5,-265 416.5,-259 422.5,-253 428.5,-253 428.5,-253 588.5,-253 588.5,-253 594.5,-253 600.5,-259 600.5,-265 600.5,-265 600.5,-339 600.5,-339 600.5,-345 594.5,-351 588.5,-351\"/>\n<text text-anchor=\"start\" x=\"481.5\" y=\"-335.8\" font-family=\"Helvetica,sans-Serif\" font-size=\"14.00\" fill=\"#000000\">node #9</text>\n<text text-anchor=\"start\" x=\"433\" y=\"-320.8\" font-family=\"Helvetica,sans-Serif\" font-size=\"14.00\" fill=\"#000000\">petal width in cm ≤ 1.55</text>\n<text text-anchor=\"start\" x=\"470.5\" y=\"-305.8\" font-family=\"Helvetica,sans-Serif\" font-size=\"14.00\" fill=\"#000000\">gini = 0.444</text>\n<text text-anchor=\"start\" x=\"456.5\" y=\"-290.8\" font-family=\"Helvetica,sans-Serif\" font-size=\"14.00\" fill=\"#000000\">samples = 2.9%</text>\n<text text-anchor=\"start\" x=\"424.5\" y=\"-275.8\" font-family=\"Helvetica,sans-Serif\" font-size=\"14.00\" fill=\"#000000\">value = [0.0, 0.333, 0.667]</text>\n<text text-anchor=\"start\" x=\"440.5\" y=\"-260.8\" font-family=\"Helvetica,sans-Serif\" font-size=\"14.00\" fill=\"#000000\">class = Iris&#45;versicolor</text>\n</g>\n<!-- 3&#45;&gt;9 -->\n<g id=\"edge9\" class=\"edge\">\n<title>3&#45;&gt;9</title>\n<path fill=\"none\" stroke=\"#000000\" d=\"M508.5,-386.8642C508.5,-378.5802 508.5,-369.903 508.5,-361.3918\"/>\n<polygon fill=\"#000000\" stroke=\"#000000\" points=\"512.0001,-361.1298 508.5,-351.1298 505.0001,-361.1299 512.0001,-361.1298\"/>\n</g>\n<!-- 5 -->\n<g id=\"node6\" class=\"node\">\n<title>5</title>\n<path fill=\"#39e581\" stroke=\"#000000\" d=\"M139,-209.5C139,-209.5 12,-209.5 12,-209.5 6,-209.5 0,-203.5 0,-197.5 0,-197.5 0,-138.5 0,-138.5 0,-132.5 6,-126.5 12,-126.5 12,-126.5 139,-126.5 139,-126.5 145,-126.5 151,-132.5 151,-138.5 151,-138.5 151,-197.5 151,-197.5 151,-203.5 145,-209.5 139,-209.5\"/>\n<text text-anchor=\"start\" x=\"48.5\" y=\"-194.3\" font-family=\"Helvetica,sans-Serif\" font-size=\"14.00\" fill=\"#000000\">node #5</text>\n<text text-anchor=\"start\" x=\"46\" y=\"-179.3\" font-family=\"Helvetica,sans-Serif\" font-size=\"14.00\" fill=\"#000000\">gini = 0.0</text>\n<text text-anchor=\"start\" x=\"19.5\" y=\"-164.3\" font-family=\"Helvetica,sans-Serif\" font-size=\"14.00\" fill=\"#000000\">samples = 29.5%</text>\n<text text-anchor=\"start\" x=\"8\" y=\"-149.3\" font-family=\"Helvetica,sans-Serif\" font-size=\"14.00\" fill=\"#000000\">value = [0.0, 1.0, 0.0]</text>\n<text text-anchor=\"start\" x=\"17\" y=\"-134.3\" font-family=\"Helvetica,sans-Serif\" font-size=\"14.00\" fill=\"#000000\">class = Iris&#45;setosa</text>\n</g>\n<!-- 4&#45;&gt;5 -->\n<g id=\"edge5\" class=\"edge\">\n<title>4&#45;&gt;5</title>\n<path fill=\"none\" stroke=\"#000000\" d=\"M188.2301,-252.8642C172.1765,-240.7789 155.0116,-227.857 139.0409,-215.8342\"/>\n<polygon fill=\"#000000\" stroke=\"#000000\" points=\"140.9046,-212.8563 130.8104,-209.6381 136.6946,-218.4488 140.9046,-212.8563\"/>\n</g>\n<!-- 6 -->\n<g id=\"node7\" class=\"node\">\n<title>6</title>\n<path fill=\"#ffffff\" stroke=\"#000000\" d=\"M326,-217C326,-217 181,-217 181,-217 175,-217 169,-211 169,-205 169,-205 169,-131 169,-131 169,-125 175,-119 181,-119 181,-119 326,-119 326,-119 332,-119 338,-125 338,-131 338,-131 338,-205 338,-205 338,-211 332,-217 326,-217\"/>\n<text text-anchor=\"start\" x=\"226.5\" y=\"-201.8\" font-family=\"Helvetica,sans-Serif\" font-size=\"14.00\" fill=\"#000000\">node #6</text>\n<text text-anchor=\"start\" x=\"177\" y=\"-186.8\" font-family=\"Helvetica,sans-Serif\" font-size=\"14.00\" fill=\"#000000\">sepal length in cm ≤ 5.8</text>\n<text text-anchor=\"start\" x=\"224\" y=\"-171.8\" font-family=\"Helvetica,sans-Serif\" font-size=\"14.00\" fill=\"#000000\">gini = 0.5</text>\n<text text-anchor=\"start\" x=\"201.5\" y=\"-156.8\" font-family=\"Helvetica,sans-Serif\" font-size=\"14.00\" fill=\"#000000\">samples = 1.9%</text>\n<text text-anchor=\"start\" x=\"186\" y=\"-141.8\" font-family=\"Helvetica,sans-Serif\" font-size=\"14.00\" fill=\"#000000\">value = [0.0, 0.5, 0.5]</text>\n<text text-anchor=\"start\" x=\"195\" y=\"-126.8\" font-family=\"Helvetica,sans-Serif\" font-size=\"14.00\" fill=\"#000000\">class = Iris&#45;setosa</text>\n</g>\n<!-- 4&#45;&gt;6 -->\n<g id=\"edge6\" class=\"edge\">\n<title>4&#45;&gt;6</title>\n<path fill=\"none\" stroke=\"#000000\" d=\"M253.5,-252.8642C253.5,-244.5802 253.5,-235.903 253.5,-227.3918\"/>\n<polygon fill=\"#000000\" stroke=\"#000000\" points=\"257.0001,-227.1298 253.5,-217.1298 250.0001,-227.1299 257.0001,-227.1298\"/>\n</g>\n<!-- 7 -->\n<g id=\"node8\" class=\"node\">\n<title>7</title>\n<path fill=\"#8139e5\" stroke=\"#000000\" d=\"M232.5,-83C232.5,-83 104.5,-83 104.5,-83 98.5,-83 92.5,-77 92.5,-71 92.5,-71 92.5,-12 92.5,-12 92.5,-6 98.5,0 104.5,0 104.5,0 232.5,0 232.5,0 238.5,0 244.5,-6 244.5,-12 244.5,-12 244.5,-71 244.5,-71 244.5,-77 238.5,-83 232.5,-83\"/>\n<text text-anchor=\"start\" x=\"141.5\" y=\"-67.8\" font-family=\"Helvetica,sans-Serif\" font-size=\"14.00\" fill=\"#000000\">node #7</text>\n<text text-anchor=\"start\" x=\"139\" y=\"-52.8\" font-family=\"Helvetica,sans-Serif\" font-size=\"14.00\" fill=\"#000000\">gini = 0.0</text>\n<text text-anchor=\"start\" x=\"116.5\" y=\"-37.8\" font-family=\"Helvetica,sans-Serif\" font-size=\"14.00\" fill=\"#000000\">samples = 1.0%</text>\n<text text-anchor=\"start\" x=\"101\" y=\"-22.8\" font-family=\"Helvetica,sans-Serif\" font-size=\"14.00\" fill=\"#000000\">value = [0.0, 0.0, 1.0]</text>\n<text text-anchor=\"start\" x=\"100.5\" y=\"-7.8\" font-family=\"Helvetica,sans-Serif\" font-size=\"14.00\" fill=\"#000000\">class = Iris&#45;versicolor</text>\n</g>\n<!-- 6&#45;&gt;7 -->\n<g id=\"edge7\" class=\"edge\">\n<title>6&#45;&gt;7</title>\n<path fill=\"none\" stroke=\"#000000\" d=\"M220.3934,-118.7296C214.3881,-109.7924 208.1195,-100.4631 202.1002,-91.505\"/>\n<polygon fill=\"#000000\" stroke=\"#000000\" points=\"204.9047,-89.4032 196.4223,-83.055 199.0945,-93.3073 204.9047,-89.4032\"/>\n</g>\n<!-- 8 -->\n<g id=\"node9\" class=\"node\">\n<title>8</title>\n<path fill=\"#39e581\" stroke=\"#000000\" d=\"M402,-83C402,-83 275,-83 275,-83 269,-83 263,-77 263,-71 263,-71 263,-12 263,-12 263,-6 269,0 275,0 275,0 402,0 402,0 408,0 414,-6 414,-12 414,-12 414,-71 414,-71 414,-77 408,-83 402,-83\"/>\n<text text-anchor=\"start\" x=\"311.5\" y=\"-67.8\" font-family=\"Helvetica,sans-Serif\" font-size=\"14.00\" fill=\"#000000\">node #8</text>\n<text text-anchor=\"start\" x=\"309\" y=\"-52.8\" font-family=\"Helvetica,sans-Serif\" font-size=\"14.00\" fill=\"#000000\">gini = 0.0</text>\n<text text-anchor=\"start\" x=\"286.5\" y=\"-37.8\" font-family=\"Helvetica,sans-Serif\" font-size=\"14.00\" fill=\"#000000\">samples = 1.0%</text>\n<text text-anchor=\"start\" x=\"271\" y=\"-22.8\" font-family=\"Helvetica,sans-Serif\" font-size=\"14.00\" fill=\"#000000\">value = [0.0, 1.0, 0.0]</text>\n<text text-anchor=\"start\" x=\"280\" y=\"-7.8\" font-family=\"Helvetica,sans-Serif\" font-size=\"14.00\" fill=\"#000000\">class = Iris&#45;setosa</text>\n</g>\n<!-- 6&#45;&gt;8 -->\n<g id=\"edge8\" class=\"edge\">\n<title>6&#45;&gt;8</title>\n<path fill=\"none\" stroke=\"#000000\" d=\"M286.6066,-118.7296C292.6119,-109.7924 298.8805,-100.4631 304.8998,-91.505\"/>\n<polygon fill=\"#000000\" stroke=\"#000000\" points=\"307.9055,-93.3073 310.5777,-83.055 302.0953,-89.4032 307.9055,-93.3073\"/>\n</g>\n<!-- 10 -->\n<g id=\"node11\" class=\"node\">\n<title>10</title>\n<path fill=\"#8139e5\" stroke=\"#000000\" d=\"M496.5,-209.5C496.5,-209.5 368.5,-209.5 368.5,-209.5 362.5,-209.5 356.5,-203.5 356.5,-197.5 356.5,-197.5 356.5,-138.5 356.5,-138.5 356.5,-132.5 362.5,-126.5 368.5,-126.5 368.5,-126.5 496.5,-126.5 496.5,-126.5 502.5,-126.5 508.5,-132.5 508.5,-138.5 508.5,-138.5 508.5,-197.5 508.5,-197.5 508.5,-203.5 502.5,-209.5 496.5,-209.5\"/>\n<text text-anchor=\"start\" x=\"401.5\" y=\"-194.3\" font-family=\"Helvetica,sans-Serif\" font-size=\"14.00\" fill=\"#000000\">node #10</text>\n<text text-anchor=\"start\" x=\"403\" y=\"-179.3\" font-family=\"Helvetica,sans-Serif\" font-size=\"14.00\" fill=\"#000000\">gini = 0.0</text>\n<text text-anchor=\"start\" x=\"380.5\" y=\"-164.3\" font-family=\"Helvetica,sans-Serif\" font-size=\"14.00\" fill=\"#000000\">samples = 1.9%</text>\n<text text-anchor=\"start\" x=\"365\" y=\"-149.3\" font-family=\"Helvetica,sans-Serif\" font-size=\"14.00\" fill=\"#000000\">value = [0.0, 0.0, 1.0]</text>\n<text text-anchor=\"start\" x=\"364.5\" y=\"-134.3\" font-family=\"Helvetica,sans-Serif\" font-size=\"14.00\" fill=\"#000000\">class = Iris&#45;versicolor</text>\n</g>\n<!-- 9&#45;&gt;10 -->\n<g id=\"edge10\" class=\"edge\">\n<title>9&#45;&gt;10</title>\n<path fill=\"none\" stroke=\"#000000\" d=\"M480.632,-252.8642C474.2807,-241.6659 467.522,-229.7493 461.1391,-218.4953\"/>\n<polygon fill=\"#000000\" stroke=\"#000000\" points=\"464.0935,-216.6098 456.1157,-209.6381 458.0047,-220.0632 464.0935,-216.6098\"/>\n</g>\n<!-- 11 -->\n<g id=\"node12\" class=\"node\">\n<title>11</title>\n<path fill=\"#39e581\" stroke=\"#000000\" d=\"M666,-209.5C666,-209.5 539,-209.5 539,-209.5 533,-209.5 527,-203.5 527,-197.5 527,-197.5 527,-138.5 527,-138.5 527,-132.5 533,-126.5 539,-126.5 539,-126.5 666,-126.5 666,-126.5 672,-126.5 678,-132.5 678,-138.5 678,-138.5 678,-197.5 678,-197.5 678,-203.5 672,-209.5 666,-209.5\"/>\n<text text-anchor=\"start\" x=\"571.5\" y=\"-194.3\" font-family=\"Helvetica,sans-Serif\" font-size=\"14.00\" fill=\"#000000\">node #11</text>\n<text text-anchor=\"start\" x=\"573\" y=\"-179.3\" font-family=\"Helvetica,sans-Serif\" font-size=\"14.00\" fill=\"#000000\">gini = 0.0</text>\n<text text-anchor=\"start\" x=\"550.5\" y=\"-164.3\" font-family=\"Helvetica,sans-Serif\" font-size=\"14.00\" fill=\"#000000\">samples = 1.0%</text>\n<text text-anchor=\"start\" x=\"535\" y=\"-149.3\" font-family=\"Helvetica,sans-Serif\" font-size=\"14.00\" fill=\"#000000\">value = [0.0, 1.0, 0.0]</text>\n<text text-anchor=\"start\" x=\"544\" y=\"-134.3\" font-family=\"Helvetica,sans-Serif\" font-size=\"14.00\" fill=\"#000000\">class = Iris&#45;setosa</text>\n</g>\n<!-- 9&#45;&gt;11 -->\n<g id=\"edge11\" class=\"edge\">\n<title>9&#45;&gt;11</title>\n<path fill=\"none\" stroke=\"#000000\" d=\"M542.9684,-252.8642C550.9795,-241.4442 559.5146,-229.2771 567.5464,-217.8275\"/>\n<polygon fill=\"#000000\" stroke=\"#000000\" points=\"570.4136,-219.8347 573.2912,-209.6381 564.683,-215.8147 570.4136,-219.8347\"/>\n</g>\n<!-- 13 -->\n<g id=\"node14\" class=\"node\">\n<title>13</title>\n<path fill=\"#c09cf2\" stroke=\"#000000\" d=\"M852.5,-351C852.5,-351 692.5,-351 692.5,-351 686.5,-351 680.5,-345 680.5,-339 680.5,-339 680.5,-265 680.5,-265 680.5,-259 686.5,-253 692.5,-253 692.5,-253 852.5,-253 852.5,-253 858.5,-253 864.5,-259 864.5,-265 864.5,-265 864.5,-339 864.5,-339 864.5,-345 858.5,-351 852.5,-351\"/>\n<text text-anchor=\"start\" x=\"741.5\" y=\"-335.8\" font-family=\"Helvetica,sans-Serif\" font-size=\"14.00\" fill=\"#000000\">node #13</text>\n<text text-anchor=\"start\" x=\"699\" y=\"-320.8\" font-family=\"Helvetica,sans-Serif\" font-size=\"14.00\" fill=\"#000000\">sepal width in cm ≤ 3.1</text>\n<text text-anchor=\"start\" x=\"734.5\" y=\"-305.8\" font-family=\"Helvetica,sans-Serif\" font-size=\"14.00\" fill=\"#000000\">gini = 0.444</text>\n<text text-anchor=\"start\" x=\"720.5\" y=\"-290.8\" font-family=\"Helvetica,sans-Serif\" font-size=\"14.00\" fill=\"#000000\">samples = 2.9%</text>\n<text text-anchor=\"start\" x=\"688.5\" y=\"-275.8\" font-family=\"Helvetica,sans-Serif\" font-size=\"14.00\" fill=\"#000000\">value = [0.0, 0.333, 0.667]</text>\n<text text-anchor=\"start\" x=\"704.5\" y=\"-260.8\" font-family=\"Helvetica,sans-Serif\" font-size=\"14.00\" fill=\"#000000\">class = Iris&#45;versicolor</text>\n</g>\n<!-- 12&#45;&gt;13 -->\n<g id=\"edge13\" class=\"edge\">\n<title>12&#45;&gt;13</title>\n<path fill=\"none\" stroke=\"#000000\" d=\"M772.5,-386.8642C772.5,-378.5802 772.5,-369.903 772.5,-361.3918\"/>\n<polygon fill=\"#000000\" stroke=\"#000000\" points=\"776.0001,-361.1298 772.5,-351.1298 769.0001,-361.1299 776.0001,-361.1298\"/>\n</g>\n<!-- 16 -->\n<g id=\"node17\" class=\"node\">\n<title>16</title>\n<path fill=\"#8139e5\" stroke=\"#000000\" d=\"M1022.5,-343.5C1022.5,-343.5 894.5,-343.5 894.5,-343.5 888.5,-343.5 882.5,-337.5 882.5,-331.5 882.5,-331.5 882.5,-272.5 882.5,-272.5 882.5,-266.5 888.5,-260.5 894.5,-260.5 894.5,-260.5 1022.5,-260.5 1022.5,-260.5 1028.5,-260.5 1034.5,-266.5 1034.5,-272.5 1034.5,-272.5 1034.5,-331.5 1034.5,-331.5 1034.5,-337.5 1028.5,-343.5 1022.5,-343.5\"/>\n<text text-anchor=\"start\" x=\"927.5\" y=\"-328.3\" font-family=\"Helvetica,sans-Serif\" font-size=\"14.00\" fill=\"#000000\">node #16</text>\n<text text-anchor=\"start\" x=\"929\" y=\"-313.3\" font-family=\"Helvetica,sans-Serif\" font-size=\"14.00\" fill=\"#000000\">gini = 0.0</text>\n<text text-anchor=\"start\" x=\"902.5\" y=\"-298.3\" font-family=\"Helvetica,sans-Serif\" font-size=\"14.00\" fill=\"#000000\">samples = 30.5%</text>\n<text text-anchor=\"start\" x=\"891\" y=\"-283.3\" font-family=\"Helvetica,sans-Serif\" font-size=\"14.00\" fill=\"#000000\">value = [0.0, 0.0, 1.0]</text>\n<text text-anchor=\"start\" x=\"890.5\" y=\"-268.3\" font-family=\"Helvetica,sans-Serif\" font-size=\"14.00\" fill=\"#000000\">class = Iris&#45;versicolor</text>\n</g>\n<!-- 12&#45;&gt;16 -->\n<g id=\"edge16\" class=\"edge\">\n<title>12&#45;&gt;16</title>\n<path fill=\"none\" stroke=\"#000000\" d=\"M840.7034,-386.8642C857.6324,-374.668 875.7441,-361.6199 892.5623,-349.5035\"/>\n<polygon fill=\"#000000\" stroke=\"#000000\" points=\"894.636,-352.3233 900.7038,-343.6381 890.5442,-346.6437 894.636,-352.3233\"/>\n</g>\n<!-- 14 -->\n<g id=\"node15\" class=\"node\">\n<title>14</title>\n<path fill=\"#8139e5\" stroke=\"#000000\" d=\"M836.5,-209.5C836.5,-209.5 708.5,-209.5 708.5,-209.5 702.5,-209.5 696.5,-203.5 696.5,-197.5 696.5,-197.5 696.5,-138.5 696.5,-138.5 696.5,-132.5 702.5,-126.5 708.5,-126.5 708.5,-126.5 836.5,-126.5 836.5,-126.5 842.5,-126.5 848.5,-132.5 848.5,-138.5 848.5,-138.5 848.5,-197.5 848.5,-197.5 848.5,-203.5 842.5,-209.5 836.5,-209.5\"/>\n<text text-anchor=\"start\" x=\"741.5\" y=\"-194.3\" font-family=\"Helvetica,sans-Serif\" font-size=\"14.00\" fill=\"#000000\">node #14</text>\n<text text-anchor=\"start\" x=\"743\" y=\"-179.3\" font-family=\"Helvetica,sans-Serif\" font-size=\"14.00\" fill=\"#000000\">gini = 0.0</text>\n<text text-anchor=\"start\" x=\"720.5\" y=\"-164.3\" font-family=\"Helvetica,sans-Serif\" font-size=\"14.00\" fill=\"#000000\">samples = 1.9%</text>\n<text text-anchor=\"start\" x=\"705\" y=\"-149.3\" font-family=\"Helvetica,sans-Serif\" font-size=\"14.00\" fill=\"#000000\">value = [0.0, 0.0, 1.0]</text>\n<text text-anchor=\"start\" x=\"704.5\" y=\"-134.3\" font-family=\"Helvetica,sans-Serif\" font-size=\"14.00\" fill=\"#000000\">class = Iris&#45;versicolor</text>\n</g>\n<!-- 13&#45;&gt;14 -->\n<g id=\"edge14\" class=\"edge\">\n<title>13&#45;&gt;14</title>\n<path fill=\"none\" stroke=\"#000000\" d=\"M772.5,-252.8642C772.5,-242.1094 772.5,-230.6921 772.5,-219.8354\"/>\n<polygon fill=\"#000000\" stroke=\"#000000\" points=\"776.0001,-219.6381 772.5,-209.6381 769.0001,-219.6382 776.0001,-219.6381\"/>\n</g>\n<!-- 15 -->\n<g id=\"node16\" class=\"node\">\n<title>15</title>\n<path fill=\"#39e581\" stroke=\"#000000\" d=\"M1006,-209.5C1006,-209.5 879,-209.5 879,-209.5 873,-209.5 867,-203.5 867,-197.5 867,-197.5 867,-138.5 867,-138.5 867,-132.5 873,-126.5 879,-126.5 879,-126.5 1006,-126.5 1006,-126.5 1012,-126.5 1018,-132.5 1018,-138.5 1018,-138.5 1018,-197.5 1018,-197.5 1018,-203.5 1012,-209.5 1006,-209.5\"/>\n<text text-anchor=\"start\" x=\"911.5\" y=\"-194.3\" font-family=\"Helvetica,sans-Serif\" font-size=\"14.00\" fill=\"#000000\">node #15</text>\n<text text-anchor=\"start\" x=\"913\" y=\"-179.3\" font-family=\"Helvetica,sans-Serif\" font-size=\"14.00\" fill=\"#000000\">gini = 0.0</text>\n<text text-anchor=\"start\" x=\"890.5\" y=\"-164.3\" font-family=\"Helvetica,sans-Serif\" font-size=\"14.00\" fill=\"#000000\">samples = 1.0%</text>\n<text text-anchor=\"start\" x=\"875\" y=\"-149.3\" font-family=\"Helvetica,sans-Serif\" font-size=\"14.00\" fill=\"#000000\">value = [0.0, 1.0, 0.0]</text>\n<text text-anchor=\"start\" x=\"884\" y=\"-134.3\" font-family=\"Helvetica,sans-Serif\" font-size=\"14.00\" fill=\"#000000\">class = Iris&#45;setosa</text>\n</g>\n<!-- 13&#45;&gt;15 -->\n<g id=\"edge15\" class=\"edge\">\n<title>13&#45;&gt;15</title>\n<path fill=\"none\" stroke=\"#000000\" d=\"M834.8364,-252.8642C850.1685,-240.7789 866.562,-227.857 881.8149,-215.8342\"/>\n<polygon fill=\"#000000\" stroke=\"#000000\" points=\"883.9886,-218.5774 889.6755,-209.6381 879.6553,-213.0799 883.9886,-218.5774\"/>\n</g>\n</g>\n</svg>\n"
          },
          "metadata": {
            "tags": []
          },
          "execution_count": 18
        }
      ]
    }
  ]
}