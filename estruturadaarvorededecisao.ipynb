{
  "nbformat": 4,
  "nbformat_minor": 0,
  "metadata": {
    "colab": {
      "name": "estruturadaarvorededecisao.ipynb",
      "provenance": [],
      "collapsed_sections": [],
      "include_colab_link": true
    },
    "kernelspec": {
      "name": "python3",
      "display_name": "Python 3"
    },
    "language_info": {
      "name": "python"
    }
  },
  "cells": [
    {
      "cell_type": "markdown",
      "metadata": {
        "id": "view-in-github",
        "colab_type": "text"
      },
      "source": [
        "<a href=\"https://colab.research.google.com/github/victorhcunha/ArvoreDeDecisao/blob/main/estruturadaarvorededecisao.ipynb\" target=\"_parent\"><img src=\"https://colab.research.google.com/assets/colab-badge.svg\" alt=\"Open In Colab\"/></a>"
      ]
    },
    {
      "cell_type": "code",
      "metadata": {
        "id": "DU2OVHXZ4lG-"
      },
      "source": [
        "# Importando as bibliotecas necessárias:\n",
        "import pandas as pd\n",
        "from sklearn.tree import DecisionTreeClassifier,export_graphviz #arvoredeDecisao e #renderizacao\n",
        "from sklearn.model_selection import train_test_split #divisaoDadosDeTeste\n",
        "from sklearn import metrics\n",
        "import numpy as np\n",
        "# Renderização gráfica\n",
        "import pydot\n",
        "import graphviz\n",
        "# Renderização interativa\n",
        "from ipywidgets import interactive\n",
        "from IPython.display import SVG,display\n",
        "from graphviz import Source"
      ],
      "execution_count": 319,
      "outputs": []
    },
    {
      "cell_type": "code",
      "metadata": {
        "colab": {
          "base_uri": "https://localhost:8080/"
        },
        "id": "n7kBWJd18A7Y",
        "outputId": "39feeece-b3eb-40f3-ad8a-29384f189a83"
      },
      "source": [
        "# Carregando a base de dados:\n",
        "data = pd.read_csv('iris.data')\n",
        "data.head()\n",
        "\n",
        "# Mostrando informações da base de dados:\n",
        "data.info()\n"
      ],
      "execution_count": 320,
      "outputs": [
        {
          "output_type": "stream",
          "text": [
            "<class 'pandas.core.frame.DataFrame'>\n",
            "RangeIndex: 150 entries, 0 to 149\n",
            "Data columns (total 5 columns):\n",
            " #   Column              Non-Null Count  Dtype  \n",
            "---  ------              --------------  -----  \n",
            " 0   sepal length in cm  150 non-null    float64\n",
            " 1   sepal width in cm   150 non-null    float64\n",
            " 2   petal length in cm  150 non-null    float64\n",
            " 3   petal width in cm   150 non-null    float64\n",
            " 4   class               150 non-null    object \n",
            "dtypes: float64(4), object(1)\n",
            "memory usage: 6.0+ KB\n"
          ],
          "name": "stdout"
        }
      ]
    },
    {
      "cell_type": "code",
      "metadata": {
        "colab": {
          "base_uri": "https://localhost:8080/"
        },
        "id": "G-2J4JqS8Opz",
        "outputId": "0eb1b8ec-9314-4dde-9027-a5b2d6405793"
      },
      "source": [
        "\n",
        "# Dividindo os dados em treino e teste:\n",
        "X_train, X_test, y_train, y_test = train_test_split(data.drop(\"class\",axis=1),data[\"class\"],test_size=0.3)\n",
        "\n",
        "# Mostrando a forma dos dados:\n",
        "print(X_train.shape,X_test.shape)\n",
        "print(y_train.shape,y_test.shape)"
      ],
      "execution_count": 321,
      "outputs": [
        {
          "output_type": "stream",
          "text": [
            "(105, 4) (45, 4)\n",
            "(105,) (45,)\n"
          ],
          "name": "stdout"
        }
      ]
    },
    {
      "cell_type": "code",
      "metadata": {
        "colab": {
          "base_uri": "https://localhost:8080/"
        },
        "id": "kyOY6-YNPCst",
        "outputId": "007a95cb-3983-4544-ccc7-83dee4b2c0fc"
      },
      "source": [
        "# Arvore de decisão:\n",
        "arvore = DecisionTreeClassifier(max_depth=3,min_samples_split=2,min_samples_leaf=2) #atributos da árvore\n",
        "arvore.fit(X_train, y_train)\n",
        "\n",
        "# Número de nós\n",
        "n_nodes = arvore.tree_.node_count\n",
        "print(\"Número de nós: {}\".format(n_nodes))"
      ],
      "execution_count": 322,
      "outputs": [
        {
          "output_type": "stream",
          "text": [
            "Número de nós: 9\n"
          ],
          "name": "stdout"
        }
      ]
    },
    {
      "cell_type": "code",
      "metadata": {
        "colab": {
          "base_uri": "https://localhost:8080/"
        },
        "id": "rpbU8ddiTwKP",
        "outputId": "2c6f2f96-0c3d-43ad-b5d0-0237dbd3ae4b"
      },
      "source": [
        "# Estrutura da árvore de decisão:\n",
        "n_nodes = arvore.tree_.node_count\n",
        "children_left = arvore.tree_.children_left\n",
        "children_right = arvore.tree_.children_right\n",
        "feature = arvore.tree_.feature\n",
        "threshold = arvore.tree_.threshold\n",
        "\n",
        "node_depth = np.zeros(shape=n_nodes, dtype=np.int64)\n",
        "is_leaves = np.zeros(shape=n_nodes, dtype=bool)\n",
        "stack = [(0, 0)]\n",
        "while len(stack) > 0:\n",
        "    node_id, depth = stack.pop()\n",
        "    node_depth[node_id] = depth\n",
        "\n",
        "    is_split_node = children_left[node_id] != children_right[node_id]\n",
        "\n",
        "    if is_split_node:\n",
        "        stack.append((children_left[node_id], depth + 1))\n",
        "        stack.append((children_right[node_id], depth + 1))\n",
        "    else:\n",
        "        is_leaves[node_id] = True\n",
        "\n",
        "print(\"A árvore binária tem {n} nodes e a \"\n",
        "      \"seuinte estrutura:\\n\".format(n=n_nodes))\n",
        "for i in range(n_nodes):\n",
        "    if is_leaves[i]:\n",
        "        print(\"{space}nó #{node} é um nó folha.\".format(\n",
        "            space=node_depth[i] * \"\\t\", node=i))\n",
        "    else:\n",
        "        print(\"{space}nó #{node} (nó teste): \"\n",
        "              \"vai para o {left} se o atributo {feature} <= {threshold} \"\n",
        "              \"se não, vai para o nó {right}.\".format(\n",
        "                  space=node_depth[i] * \"\\t\",\n",
        "                  node=i,\n",
        "                  left=children_left[i],\n",
        "                  feature=data.columns[feature[i]],\n",
        "                  threshold=threshold[i],\n",
        "                  right=children_right[i]))"
      ],
      "execution_count": 323,
      "outputs": [
        {
          "output_type": "stream",
          "text": [
            "A árvore binária tem 9 nodes e a seuinte estrutura:\n",
            "\n",
            "nó #0 (nó teste): vai para o 1 se o atributo petal width in cm <= 0.800000011920929 se não, vai para o nó 2.\n",
            "\tnó #1 é um nó folha.\n",
            "\tnó #2 (nó teste): vai para o 3 se o atributo petal length in cm <= 4.8500001430511475 se não, vai para o nó 6.\n",
            "\t\tnó #3 (nó teste): vai para o 4 se o atributo sepal length in cm <= 5.200000047683716 se não, vai para o nó 5.\n",
            "\t\t\tnó #4 é um nó folha.\n",
            "\t\t\tnó #5 é um nó folha.\n",
            "\t\tnó #6 (nó teste): vai para o 7 se o atributo petal width in cm <= 1.75 se não, vai para o nó 8.\n",
            "\t\t\tnó #7 é um nó folha.\n",
            "\t\t\tnó #8 é um nó folha.\n"
          ],
          "name": "stdout"
        }
      ]
    },
    {
      "cell_type": "code",
      "metadata": {
        "id": "_fO0j27d9MJl",
        "colab": {
          "base_uri": "https://localhost:8080/",
          "height": 698
        },
        "outputId": "46dec728-9db7-48b7-95cf-84c1227906db"
      },
      "source": [
        "# Renderização de Árvore:\n",
        "dot_data = export_graphviz( \n",
        "         arvore, \n",
        "         out_file=None,\n",
        "         feature_names=data.drop('class',axis=1).columns,\n",
        "         class_names=['Iris-virginica','Iris-setosa', 'Iris-versicolor'],  \n",
        "         filled=True, rounded=True,\n",
        "         proportion=True,\n",
        "         node_ids=True,\n",
        "         rotate=False,\n",
        "         label='all',\n",
        "         special_characters=True\n",
        "        )\n",
        "\n",
        "graph = graphviz.Source(dot_data)  \n",
        "graph"
      ],
      "execution_count": 324,
      "outputs": [
        {
          "output_type": "execute_result",
          "data": {
            "text/plain": [
              "<graphviz.files.Source at 0x7fb33f71ae10>"
            ],
            "image/svg+xml": "<?xml version=\"1.0\" encoding=\"UTF-8\" standalone=\"no\"?>\n<!DOCTYPE svg PUBLIC \"-//W3C//DTD SVG 1.1//EN\"\n \"http://www.w3.org/Graphics/SVG/1.1/DTD/svg11.dtd\">\n<!-- Generated by graphviz version 2.40.1 (20161225.0304)\n -->\n<!-- Title: Tree Pages: 1 -->\n<svg width=\"684pt\" height=\"493pt\"\n viewBox=\"0.00 0.00 683.50 493.00\" xmlns=\"http://www.w3.org/2000/svg\" xmlns:xlink=\"http://www.w3.org/1999/xlink\">\n<g id=\"graph0\" class=\"graph\" transform=\"scale(1 1) rotate(0) translate(4 489)\">\n<title>Tree</title>\n<polygon fill=\"#ffffff\" stroke=\"transparent\" points=\"-4,4 -4,-489 679.5,-489 679.5,4 -4,4\"/>\n<!-- 0 -->\n<g id=\"node1\" class=\"node\">\n<title>0</title>\n<path fill=\"#faf7fe\" stroke=\"#000000\" d=\"M331.5,-485C331.5,-485 155.5,-485 155.5,-485 149.5,-485 143.5,-479 143.5,-473 143.5,-473 143.5,-399 143.5,-399 143.5,-393 149.5,-387 155.5,-387 155.5,-387 331.5,-387 331.5,-387 337.5,-387 343.5,-393 343.5,-399 343.5,-399 343.5,-473 343.5,-473 343.5,-479 337.5,-485 331.5,-485\"/>\n<text text-anchor=\"start\" x=\"216.5\" y=\"-469.8\" font-family=\"Helvetica,sans-Serif\" font-size=\"14.00\" fill=\"#000000\">node #0</text>\n<text text-anchor=\"start\" x=\"172\" y=\"-454.8\" font-family=\"Helvetica,sans-Serif\" font-size=\"14.00\" fill=\"#000000\">petal width in cm ≤ 0.8</text>\n<text text-anchor=\"start\" x=\"205.5\" y=\"-439.8\" font-family=\"Helvetica,sans-Serif\" font-size=\"14.00\" fill=\"#000000\">gini = 0.665</text>\n<text text-anchor=\"start\" x=\"183\" y=\"-424.8\" font-family=\"Helvetica,sans-Serif\" font-size=\"14.00\" fill=\"#000000\">samples = 100.0%</text>\n<text text-anchor=\"start\" x=\"151.5\" y=\"-409.8\" font-family=\"Helvetica,sans-Serif\" font-size=\"14.00\" fill=\"#000000\">value = [0.333, 0.305, 0.362]</text>\n<text text-anchor=\"start\" x=\"175.5\" y=\"-394.8\" font-family=\"Helvetica,sans-Serif\" font-size=\"14.00\" fill=\"#000000\">class = Iris&#45;versicolor</text>\n</g>\n<!-- 1 -->\n<g id=\"node2\" class=\"node\">\n<title>1</title>\n<path fill=\"#e58139\" stroke=\"#000000\" d=\"M214,-343.5C214,-343.5 87,-343.5 87,-343.5 81,-343.5 75,-337.5 75,-331.5 75,-331.5 75,-272.5 75,-272.5 75,-266.5 81,-260.5 87,-260.5 87,-260.5 214,-260.5 214,-260.5 220,-260.5 226,-266.5 226,-272.5 226,-272.5 226,-331.5 226,-331.5 226,-337.5 220,-343.5 214,-343.5\"/>\n<text text-anchor=\"start\" x=\"123.5\" y=\"-328.3\" font-family=\"Helvetica,sans-Serif\" font-size=\"14.00\" fill=\"#000000\">node #1</text>\n<text text-anchor=\"start\" x=\"121\" y=\"-313.3\" font-family=\"Helvetica,sans-Serif\" font-size=\"14.00\" fill=\"#000000\">gini = 0.0</text>\n<text text-anchor=\"start\" x=\"94.5\" y=\"-298.3\" font-family=\"Helvetica,sans-Serif\" font-size=\"14.00\" fill=\"#000000\">samples = 33.3%</text>\n<text text-anchor=\"start\" x=\"83\" y=\"-283.3\" font-family=\"Helvetica,sans-Serif\" font-size=\"14.00\" fill=\"#000000\">value = [1.0, 0.0, 0.0]</text>\n<text text-anchor=\"start\" x=\"87\" y=\"-268.3\" font-family=\"Helvetica,sans-Serif\" font-size=\"14.00\" fill=\"#000000\">class = Iris&#45;virginica</text>\n</g>\n<!-- 0&#45;&gt;1 -->\n<g id=\"edge1\" class=\"edge\">\n<title>0&#45;&gt;1</title>\n<path fill=\"none\" stroke=\"#000000\" d=\"M209.3983,-386.8642C201.5494,-375.555 193.192,-363.5133 185.3133,-352.1612\"/>\n<polygon fill=\"#000000\" stroke=\"#000000\" points=\"187.9752,-349.8579 179.3981,-343.6381 182.2245,-353.849 187.9752,-349.8579\"/>\n<text text-anchor=\"middle\" x=\"174.9546\" y=\"-364.5401\" font-family=\"Helvetica,sans-Serif\" font-size=\"14.00\" fill=\"#000000\">True</text>\n</g>\n<!-- 2 -->\n<g id=\"node3\" class=\"node\">\n<title>2</title>\n<path fill=\"#ebe0fb\" stroke=\"#000000\" d=\"M416.5,-351C416.5,-351 256.5,-351 256.5,-351 250.5,-351 244.5,-345 244.5,-339 244.5,-339 244.5,-265 244.5,-265 244.5,-259 250.5,-253 256.5,-253 256.5,-253 416.5,-253 416.5,-253 422.5,-253 428.5,-259 428.5,-265 428.5,-265 428.5,-339 428.5,-339 428.5,-345 422.5,-351 416.5,-351\"/>\n<text text-anchor=\"start\" x=\"309.5\" y=\"-335.8\" font-family=\"Helvetica,sans-Serif\" font-size=\"14.00\" fill=\"#000000\">node #2</text>\n<text text-anchor=\"start\" x=\"258\" y=\"-320.8\" font-family=\"Helvetica,sans-Serif\" font-size=\"14.00\" fill=\"#000000\">petal length in cm ≤ 4.85</text>\n<text text-anchor=\"start\" x=\"298.5\" y=\"-305.8\" font-family=\"Helvetica,sans-Serif\" font-size=\"14.00\" fill=\"#000000\">gini = 0.496</text>\n<text text-anchor=\"start\" x=\"280.5\" y=\"-290.8\" font-family=\"Helvetica,sans-Serif\" font-size=\"14.00\" fill=\"#000000\">samples = 66.7%</text>\n<text text-anchor=\"start\" x=\"252.5\" y=\"-275.8\" font-family=\"Helvetica,sans-Serif\" font-size=\"14.00\" fill=\"#000000\">value = [0.0, 0.457, 0.543]</text>\n<text text-anchor=\"start\" x=\"268.5\" y=\"-260.8\" font-family=\"Helvetica,sans-Serif\" font-size=\"14.00\" fill=\"#000000\">class = Iris&#45;versicolor</text>\n</g>\n<!-- 0&#45;&gt;2 -->\n<g id=\"edge2\" class=\"edge\">\n<title>0&#45;&gt;2</title>\n<path fill=\"none\" stroke=\"#000000\" d=\"M277.6017,-386.8642C283.7933,-377.9429 290.3014,-368.5657 296.6413,-359.4309\"/>\n<polygon fill=\"#000000\" stroke=\"#000000\" points=\"299.5761,-361.3407 302.4024,-351.1298 293.8254,-357.3495 299.5761,-361.3407\"/>\n<text text-anchor=\"middle\" x=\"306.846\" y=\"-372.0318\" font-family=\"Helvetica,sans-Serif\" font-size=\"14.00\" fill=\"#000000\">False</text>\n</g>\n<!-- 3 -->\n<g id=\"node4\" class=\"node\">\n<title>3</title>\n<path fill=\"#40e685\" stroke=\"#000000\" d=\"M315.5,-217C315.5,-217 155.5,-217 155.5,-217 149.5,-217 143.5,-211 143.5,-205 143.5,-205 143.5,-131 143.5,-131 143.5,-125 149.5,-119 155.5,-119 155.5,-119 315.5,-119 315.5,-119 321.5,-119 327.5,-125 327.5,-131 327.5,-131 327.5,-205 327.5,-205 327.5,-211 321.5,-217 315.5,-217\"/>\n<text text-anchor=\"start\" x=\"208.5\" y=\"-201.8\" font-family=\"Helvetica,sans-Serif\" font-size=\"14.00\" fill=\"#000000\">node #3</text>\n<text text-anchor=\"start\" x=\"159\" y=\"-186.8\" font-family=\"Helvetica,sans-Serif\" font-size=\"14.00\" fill=\"#000000\">sepal length in cm ≤ 5.2</text>\n<text text-anchor=\"start\" x=\"197.5\" y=\"-171.8\" font-family=\"Helvetica,sans-Serif\" font-size=\"14.00\" fill=\"#000000\">gini = 0.064</text>\n<text text-anchor=\"start\" x=\"179.5\" y=\"-156.8\" font-family=\"Helvetica,sans-Serif\" font-size=\"14.00\" fill=\"#000000\">samples = 28.6%</text>\n<text text-anchor=\"start\" x=\"151.5\" y=\"-141.8\" font-family=\"Helvetica,sans-Serif\" font-size=\"14.00\" fill=\"#000000\">value = [0.0, 0.967, 0.033]</text>\n<text text-anchor=\"start\" x=\"177\" y=\"-126.8\" font-family=\"Helvetica,sans-Serif\" font-size=\"14.00\" fill=\"#000000\">class = Iris&#45;setosa</text>\n</g>\n<!-- 2&#45;&gt;3 -->\n<g id=\"edge3\" class=\"edge\">\n<title>2&#45;&gt;3</title>\n<path fill=\"none\" stroke=\"#000000\" d=\"M299.4648,-252.8642C292.6719,-243.8519 285.5284,-234.3743 278.5767,-225.1513\"/>\n<polygon fill=\"#000000\" stroke=\"#000000\" points=\"281.3448,-223.0088 272.5307,-217.1298 275.7548,-227.2222 281.3448,-223.0088\"/>\n</g>\n<!-- 6 -->\n<g id=\"node7\" class=\"node\">\n<title>6</title>\n<path fill=\"#8b49e7\" stroke=\"#000000\" d=\"M517.5,-217C517.5,-217 357.5,-217 357.5,-217 351.5,-217 345.5,-211 345.5,-205 345.5,-205 345.5,-131 345.5,-131 345.5,-125 351.5,-119 357.5,-119 357.5,-119 517.5,-119 517.5,-119 523.5,-119 529.5,-125 529.5,-131 529.5,-131 529.5,-205 529.5,-205 529.5,-211 523.5,-217 517.5,-217\"/>\n<text text-anchor=\"start\" x=\"410.5\" y=\"-201.8\" font-family=\"Helvetica,sans-Serif\" font-size=\"14.00\" fill=\"#000000\">node #6</text>\n<text text-anchor=\"start\" x=\"362\" y=\"-186.8\" font-family=\"Helvetica,sans-Serif\" font-size=\"14.00\" fill=\"#000000\">petal width in cm ≤ 1.75</text>\n<text text-anchor=\"start\" x=\"399.5\" y=\"-171.8\" font-family=\"Helvetica,sans-Serif\" font-size=\"14.00\" fill=\"#000000\">gini = 0.139</text>\n<text text-anchor=\"start\" x=\"381.5\" y=\"-156.8\" font-family=\"Helvetica,sans-Serif\" font-size=\"14.00\" fill=\"#000000\">samples = 38.1%</text>\n<text text-anchor=\"start\" x=\"353.5\" y=\"-141.8\" font-family=\"Helvetica,sans-Serif\" font-size=\"14.00\" fill=\"#000000\">value = [0.0, 0.075, 0.925]</text>\n<text text-anchor=\"start\" x=\"369.5\" y=\"-126.8\" font-family=\"Helvetica,sans-Serif\" font-size=\"14.00\" fill=\"#000000\">class = Iris&#45;versicolor</text>\n</g>\n<!-- 2&#45;&gt;6 -->\n<g id=\"edge6\" class=\"edge\">\n<title>2&#45;&gt;6</title>\n<path fill=\"none\" stroke=\"#000000\" d=\"M373.5352,-252.8642C380.3281,-243.8519 387.4716,-234.3743 394.4233,-225.1513\"/>\n<polygon fill=\"#000000\" stroke=\"#000000\" points=\"397.2452,-227.2222 400.4693,-217.1298 391.6552,-223.0088 397.2452,-227.2222\"/>\n</g>\n<!-- 4 -->\n<g id=\"node5\" class=\"node\">\n<title>4</title>\n<path fill=\"#ffffff\" stroke=\"#000000\" d=\"M139,-83C139,-83 12,-83 12,-83 6,-83 0,-77 0,-71 0,-71 0,-12 0,-12 0,-6 6,0 12,0 12,0 139,0 139,0 145,0 151,-6 151,-12 151,-12 151,-71 151,-71 151,-77 145,-83 139,-83\"/>\n<text text-anchor=\"start\" x=\"48.5\" y=\"-67.8\" font-family=\"Helvetica,sans-Serif\" font-size=\"14.00\" fill=\"#000000\">node #4</text>\n<text text-anchor=\"start\" x=\"46\" y=\"-52.8\" font-family=\"Helvetica,sans-Serif\" font-size=\"14.00\" fill=\"#000000\">gini = 0.5</text>\n<text text-anchor=\"start\" x=\"23.5\" y=\"-37.8\" font-family=\"Helvetica,sans-Serif\" font-size=\"14.00\" fill=\"#000000\">samples = 1.9%</text>\n<text text-anchor=\"start\" x=\"8\" y=\"-22.8\" font-family=\"Helvetica,sans-Serif\" font-size=\"14.00\" fill=\"#000000\">value = [0.0, 0.5, 0.5]</text>\n<text text-anchor=\"start\" x=\"17\" y=\"-7.8\" font-family=\"Helvetica,sans-Serif\" font-size=\"14.00\" fill=\"#000000\">class = Iris&#45;setosa</text>\n</g>\n<!-- 3&#45;&gt;4 -->\n<g id=\"edge4\" class=\"edge\">\n<title>3&#45;&gt;4</title>\n<path fill=\"none\" stroke=\"#000000\" d=\"M173.1817,-118.7296C160.9454,-109.0553 148.1282,-98.9216 135.9542,-89.2966\"/>\n<polygon fill=\"#000000\" stroke=\"#000000\" points=\"138.0748,-86.5114 128.0596,-83.055 133.7334,-92.0026 138.0748,-86.5114\"/>\n</g>\n<!-- 5 -->\n<g id=\"node6\" class=\"node\">\n<title>5</title>\n<path fill=\"#39e581\" stroke=\"#000000\" d=\"M308,-83C308,-83 181,-83 181,-83 175,-83 169,-77 169,-71 169,-71 169,-12 169,-12 169,-6 175,0 181,0 181,0 308,0 308,0 314,0 320,-6 320,-12 320,-12 320,-71 320,-71 320,-77 314,-83 308,-83\"/>\n<text text-anchor=\"start\" x=\"217.5\" y=\"-67.8\" font-family=\"Helvetica,sans-Serif\" font-size=\"14.00\" fill=\"#000000\">node #5</text>\n<text text-anchor=\"start\" x=\"215\" y=\"-52.8\" font-family=\"Helvetica,sans-Serif\" font-size=\"14.00\" fill=\"#000000\">gini = 0.0</text>\n<text text-anchor=\"start\" x=\"188.5\" y=\"-37.8\" font-family=\"Helvetica,sans-Serif\" font-size=\"14.00\" fill=\"#000000\">samples = 26.7%</text>\n<text text-anchor=\"start\" x=\"177\" y=\"-22.8\" font-family=\"Helvetica,sans-Serif\" font-size=\"14.00\" fill=\"#000000\">value = [0.0, 1.0, 0.0]</text>\n<text text-anchor=\"start\" x=\"186\" y=\"-7.8\" font-family=\"Helvetica,sans-Serif\" font-size=\"14.00\" fill=\"#000000\">class = Iris&#45;setosa</text>\n</g>\n<!-- 3&#45;&gt;5 -->\n<g id=\"edge5\" class=\"edge\">\n<title>3&#45;&gt;5</title>\n<path fill=\"none\" stroke=\"#000000\" d=\"M239.0054,-118.7296C239.6019,-110.3452 240.223,-101.6158 240.8238,-93.1714\"/>\n<polygon fill=\"#000000\" stroke=\"#000000\" points=\"244.3249,-93.2782 241.5435,-83.055 237.3426,-92.7813 244.3249,-93.2782\"/>\n</g>\n<!-- 7 -->\n<g id=\"node8\" class=\"node\">\n<title>7</title>\n<path fill=\"#ffffff\" stroke=\"#000000\" d=\"M493,-83C493,-83 366,-83 366,-83 360,-83 354,-77 354,-71 354,-71 354,-12 354,-12 354,-6 360,0 366,0 366,0 493,0 493,0 499,0 505,-6 505,-12 505,-12 505,-71 505,-71 505,-77 499,-83 493,-83\"/>\n<text text-anchor=\"start\" x=\"402.5\" y=\"-67.8\" font-family=\"Helvetica,sans-Serif\" font-size=\"14.00\" fill=\"#000000\">node #7</text>\n<text text-anchor=\"start\" x=\"400\" y=\"-52.8\" font-family=\"Helvetica,sans-Serif\" font-size=\"14.00\" fill=\"#000000\">gini = 0.5</text>\n<text text-anchor=\"start\" x=\"377.5\" y=\"-37.8\" font-family=\"Helvetica,sans-Serif\" font-size=\"14.00\" fill=\"#000000\">samples = 5.7%</text>\n<text text-anchor=\"start\" x=\"362\" y=\"-22.8\" font-family=\"Helvetica,sans-Serif\" font-size=\"14.00\" fill=\"#000000\">value = [0.0, 0.5, 0.5]</text>\n<text text-anchor=\"start\" x=\"371\" y=\"-7.8\" font-family=\"Helvetica,sans-Serif\" font-size=\"14.00\" fill=\"#000000\">class = Iris&#45;setosa</text>\n</g>\n<!-- 6&#45;&gt;7 -->\n<g id=\"edge7\" class=\"edge\">\n<title>6&#45;&gt;7</title>\n<path fill=\"none\" stroke=\"#000000\" d=\"M434.3841,-118.7296C433.8538,-110.3452 433.3018,-101.6158 432.7678,-93.1714\"/>\n<polygon fill=\"#000000\" stroke=\"#000000\" points=\"436.2522,-92.8141 432.128,-83.055 429.2662,-93.256 436.2522,-92.8141\"/>\n</g>\n<!-- 8 -->\n<g id=\"node9\" class=\"node\">\n<title>8</title>\n<path fill=\"#8139e5\" stroke=\"#000000\" d=\"M663.5,-83C663.5,-83 535.5,-83 535.5,-83 529.5,-83 523.5,-77 523.5,-71 523.5,-71 523.5,-12 523.5,-12 523.5,-6 529.5,0 535.5,0 535.5,0 663.5,0 663.5,0 669.5,0 675.5,-6 675.5,-12 675.5,-12 675.5,-71 675.5,-71 675.5,-77 669.5,-83 663.5,-83\"/>\n<text text-anchor=\"start\" x=\"572.5\" y=\"-67.8\" font-family=\"Helvetica,sans-Serif\" font-size=\"14.00\" fill=\"#000000\">node #8</text>\n<text text-anchor=\"start\" x=\"570\" y=\"-52.8\" font-family=\"Helvetica,sans-Serif\" font-size=\"14.00\" fill=\"#000000\">gini = 0.0</text>\n<text text-anchor=\"start\" x=\"543.5\" y=\"-37.8\" font-family=\"Helvetica,sans-Serif\" font-size=\"14.00\" fill=\"#000000\">samples = 32.4%</text>\n<text text-anchor=\"start\" x=\"532\" y=\"-22.8\" font-family=\"Helvetica,sans-Serif\" font-size=\"14.00\" fill=\"#000000\">value = [0.0, 0.0, 1.0]</text>\n<text text-anchor=\"start\" x=\"531.5\" y=\"-7.8\" font-family=\"Helvetica,sans-Serif\" font-size=\"14.00\" fill=\"#000000\">class = Iris&#45;versicolor</text>\n</g>\n<!-- 6&#45;&gt;8 -->\n<g id=\"edge8\" class=\"edge\">\n<title>6&#45;&gt;8</title>\n<path fill=\"none\" stroke=\"#000000\" d=\"M500.5973,-118.7296C512.9865,-109.0553 525.964,-98.9216 538.2901,-89.2966\"/>\n<polygon fill=\"#000000\" stroke=\"#000000\" points=\"540.5557,-91.9682 546.2834,-83.055 536.2475,-86.4509 540.5557,-91.9682\"/>\n</g>\n</g>\n</svg>\n"
          },
          "metadata": {
            "tags": []
          },
          "execution_count": 324
        }
      ]
    },
    {
      "cell_type": "code",
      "metadata": {
        "id": "WBnZfNqiixx_",
        "colab": {
          "base_uri": "https://localhost:8080/"
        },
        "outputId": "e864aa05-44cc-42da-f83a-0915d86f000e"
      },
      "source": [
        "# Executando o método predict:\n",
        "resultado = arvore.predict(X_test)\n",
        "print(resultado)\n",
        "\n",
        "# Relatório de métricas:\n",
        "print(metrics.classification_report(y_test,resultado))"
      ],
      "execution_count": 325,
      "outputs": [
        {
          "output_type": "stream",
          "text": [
            "['Iris-virginica' 'Iris-setosa' 'Iris-setosa' 'Iris-versicolor'\n",
            " 'Iris-virginica' 'Iris-setosa' 'Iris-virginica' 'Iris-versicolor'\n",
            " 'Iris-setosa' 'Iris-versicolor' 'Iris-versicolor' 'Iris-setosa'\n",
            " 'Iris-versicolor' 'Iris-versicolor' 'Iris-versicolor' 'Iris-virginica'\n",
            " 'Iris-virginica' 'Iris-setosa' 'Iris-versicolor' 'Iris-virginica'\n",
            " 'Iris-versicolor' 'Iris-setosa' 'Iris-versicolor' 'Iris-virginica'\n",
            " 'Iris-versicolor' 'Iris-versicolor' 'Iris-versicolor' 'Iris-versicolor'\n",
            " 'Iris-setosa' 'Iris-setosa' 'Iris-setosa' 'Iris-setosa' 'Iris-virginica'\n",
            " 'Iris-versicolor' 'Iris-versicolor' 'Iris-versicolor' 'Iris-setosa'\n",
            " 'Iris-setosa' 'Iris-setosa' 'Iris-versicolor' 'Iris-versicolor'\n",
            " 'Iris-virginica' 'Iris-versicolor' 'Iris-setosa' 'Iris-versicolor']\n",
            "                 precision    recall  f1-score   support\n",
            "\n",
            "    Iris-setosa       1.00      1.00      1.00        15\n",
            "Iris-versicolor       0.86      1.00      0.92        18\n",
            " Iris-virginica       1.00      0.75      0.86        12\n",
            "\n",
            "       accuracy                           0.93        45\n",
            "      macro avg       0.95      0.92      0.93        45\n",
            "   weighted avg       0.94      0.93      0.93        45\n",
            "\n"
          ],
          "name": "stdout"
        }
      ]
    }
  ]
}